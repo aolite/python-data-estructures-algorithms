{
 "cells": [
  {
   "cell_type": "markdown",
   "metadata": {},
   "source": [
    "# Trees"
   ]
  },
  {
   "cell_type": "code",
   "execution_count": 16,
   "metadata": {},
   "outputs": [],
   "source": [
    "class Node (object):\n",
    "    def __init__ (self, data):\n",
    "        self.data = data\n",
    "        self.left_child = None\n",
    "        self.right_child = None\n",
    "    \n",
    "    def inorder (self, root_node):\n",
    "        current = root_node\n",
    "        if current == None:\n",
    "            return\n",
    "        \n",
    "        self.inorder(current.left_child)\n",
    "        print (current.data)\n",
    "        self.inorder(current.right_child)\n",
    "    \n",
    "    def preorder (self, root_node):\n",
    "        current = root_node\n",
    "        if current == None:\n",
    "            return\n",
    "        \n",
    "        print (current.data)\n",
    "        self.preorder(current.left_child)\n",
    "        self.preorder(current.right_child)\n",
    "    \n",
    "    def postorder (self, root_node):\n",
    "        current = root_node\n",
    "        if current == None: \n",
    "            return\n",
    "        \n",
    "        self.postorder(current.left_child)\n",
    "        self.postorder(current.right_child)\n",
    "        print (current.data)"
   ]
  },
  {
   "cell_type": "code",
   "execution_count": 17,
   "metadata": {},
   "outputs": [],
   "source": [
    "n1 = Node (\"Root Node\")\n",
    "n2 = Node (\" LEFT child node\")\n",
    "n3 = Node (\" RIGHT child node\")\n",
    "n4 = Node (\"LEFT GRANDCHILD node\")"
   ]
  },
  {
   "cell_type": "code",
   "execution_count": 18,
   "metadata": {},
   "outputs": [],
   "source": [
    "n1.left_child = n2\n",
    "n1.right_child = n3\n",
    "n2.left_child = n4"
   ]
  },
  {
   "cell_type": "code",
   "execution_count": 19,
   "metadata": {},
   "outputs": [
    {
     "name": "stdout",
     "output_type": "stream",
     "text": [
      "Root Node\n",
      " LEFT child node\n",
      "LEFT GRANDCHILD node\n"
     ]
    }
   ],
   "source": [
    "current = n1\n",
    "while current: \n",
    "    print (current.data)\n",
    "    current = current.left_child"
   ]
  },
  {
   "cell_type": "code",
   "execution_count": 20,
   "metadata": {},
   "outputs": [
    {
     "name": "stdout",
     "output_type": "stream",
     "text": [
      "LEFT GRANDCHILD node\n",
      " LEFT child node\n",
      "Root Node\n",
      " RIGHT child node\n"
     ]
    }
   ],
   "source": [
    "n1.inorder(n1)"
   ]
  },
  {
   "cell_type": "code",
   "execution_count": 21,
   "metadata": {},
   "outputs": [
    {
     "name": "stdout",
     "output_type": "stream",
     "text": [
      "Root Node\n",
      " LEFT child node\n",
      "LEFT GRANDCHILD node\n",
      " RIGHT child node\n"
     ]
    }
   ],
   "source": [
    "n1.preorder(n1)"
   ]
  },
  {
   "cell_type": "code",
   "execution_count": 22,
   "metadata": {},
   "outputs": [
    {
     "name": "stdout",
     "output_type": "stream",
     "text": [
      "LEFT GRANDCHILD node\n",
      " LEFT child node\n",
      " RIGHT child node\n",
      "Root Node\n"
     ]
    }
   ],
   "source": [
    "n1.postorder(n1)"
   ]
  },
  {
   "cell_type": "code",
   "execution_count": 23,
   "metadata": {},
   "outputs": [],
   "source": [
    "from collections import deque\n",
    "class Tree (object):\n",
    "    def __init__ (self, root_node):\n",
    "        self.root_node = root_node\n",
    "        \n",
    "    def breath_first_transversal (self):\n",
    "        list_of_nodes = []\n",
    "        transversal_queue = deque([self.root_node])\n",
    "        while len (transversal_queue) > 0:\n",
    "            node = transversal_queue.popleft()\n",
    "            list_of_nodes.append(node.data)\n",
    "            if node.left_child:\n",
    "                transversal_queue.append(node.left_child)\n",
    "            if node.right_child:\n",
    "                transversal_queue.append(node.right_child)\n",
    "        return list_of_nodes\n"
   ]
  },
  {
   "cell_type": "code",
   "execution_count": 24,
   "metadata": {},
   "outputs": [
    {
     "name": "stdout",
     "output_type": "stream",
     "text": [
      "['Root Node', ' LEFT child node', ' RIGHT child node', 'LEFT GRANDCHILD node']\n"
     ]
    }
   ],
   "source": [
    "myTree = Tree (n1)\n",
    "print (myTree.breath_first_transversal())"
   ]
  },
  {
   "cell_type": "markdown",
   "metadata": {},
   "source": [
    "## Binery Trees"
   ]
  },
  {
   "cell_type": "code",
   "execution_count": null,
   "metadata": {},
   "outputs": [],
   "source": []
  }
 ],
 "metadata": {
  "kernelspec": {
   "display_name": "Python 3.10.7 ('.venv': poetry)",
   "language": "python",
   "name": "python3"
  },
  "language_info": {
   "codemirror_mode": {
    "name": "ipython",
    "version": 3
   },
   "file_extension": ".py",
   "mimetype": "text/x-python",
   "name": "python",
   "nbconvert_exporter": "python",
   "pygments_lexer": "ipython3",
   "version": "3.10.7"
  },
  "orig_nbformat": 4,
  "vscode": {
   "interpreter": {
    "hash": "e15455894e47da1e30c885127281fed88668cbeb5e4029456e2a9b134451d891"
   }
  }
 },
 "nbformat": 4,
 "nbformat_minor": 2
}
