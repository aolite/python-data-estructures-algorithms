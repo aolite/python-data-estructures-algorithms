{
 "cells": [
  {
   "cell_type": "markdown",
   "metadata": {},
   "source": [
    "# Trees"
   ]
  },
  {
   "cell_type": "code",
   "execution_count": 1,
   "metadata": {},
   "outputs": [],
   "source": [
    "class Node (object):\n",
    "    def __init__ (self, data):\n",
    "        self.data = data\n",
    "        self.left_child = None\n",
    "        self.right_child = None"
   ]
  },
  {
   "cell_type": "code",
   "execution_count": 2,
   "metadata": {},
   "outputs": [],
   "source": [
    "n1 = Node (\"Root Node\")\n",
    "n2 = Node (\" LEFT child node\")\n",
    "n3 = Node (\" RIGHT child node\")\n",
    "n4 = Node (\"LEFT GRANDCHILD node\")"
   ]
  },
  {
   "cell_type": "code",
   "execution_count": 3,
   "metadata": {},
   "outputs": [],
   "source": [
    "n1.left_child = n2\n",
    "n1.right_child = n3\n",
    "n2.left_child = n4"
   ]
  },
  {
   "cell_type": "code",
   "execution_count": 4,
   "metadata": {},
   "outputs": [
    {
     "name": "stdout",
     "output_type": "stream",
     "text": [
      "Root Node\n",
      " LEFT child node\n",
      "LEFT GRANDCHILD node\n"
     ]
    }
   ],
   "source": [
    "current = n1\n",
    "while current: \n",
    "    print (current.data)\n",
    "    current = current.left_child"
   ]
  }
 ],
 "metadata": {
  "kernelspec": {
   "display_name": "Python 3.10.7 ('.venv': poetry)",
   "language": "python",
   "name": "python3"
  },
  "language_info": {
   "codemirror_mode": {
    "name": "ipython",
    "version": 3
   },
   "file_extension": ".py",
   "mimetype": "text/x-python",
   "name": "python",
   "nbconvert_exporter": "python",
   "pygments_lexer": "ipython3",
   "version": "3.10.7"
  },
  "orig_nbformat": 4,
  "vscode": {
   "interpreter": {
    "hash": "e15455894e47da1e30c885127281fed88668cbeb5e4029456e2a9b134451d891"
   }
  }
 },
 "nbformat": 4,
 "nbformat_minor": 2
}
