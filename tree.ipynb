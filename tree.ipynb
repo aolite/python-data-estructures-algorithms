{
 "cells": [
  {
   "cell_type": "markdown",
   "metadata": {},
   "source": [
    "# Trees"
   ]
  },
  {
   "cell_type": "code",
   "execution_count": 1,
   "metadata": {},
   "outputs": [],
   "source": [
    "class Node (object):\n",
    "    def __init__ (self, data):\n",
    "        self.data = data\n",
    "        self.left_child = None\n",
    "        self.right_child = None\n",
    "    \n",
    "    def inorder (self, root_node):\n",
    "        current = root_node\n",
    "        if current == None:\n",
    "            return\n",
    "        \n",
    "        self.inorder(current.left_child)\n",
    "        print (current.data)\n",
    "        self.inorder(current.right_child)\n",
    "    \n",
    "    def preorder (self, root_node):\n",
    "        current = root_node\n",
    "        if current == None:\n",
    "            return\n",
    "        \n",
    "        print (current.data)\n",
    "        self.preorder(current.left_child)\n",
    "        self.preorder(current.right_child)\n",
    "    \n",
    "    def postorder (self, root_node):\n",
    "        current = root_node\n",
    "        if current == None: \n",
    "            return\n",
    "        \n",
    "        self.postorder(current.left_child)\n",
    "        self.postorder(current.right_child)\n",
    "        print (current.data)"
   ]
  },
  {
   "cell_type": "code",
   "execution_count": 2,
   "metadata": {},
   "outputs": [],
   "source": [
    "n1 = Node (\"Root Node\")\n",
    "n2 = Node (\" LEFT child node\")\n",
    "n3 = Node (\" RIGHT child node\")\n",
    "n4 = Node (\"LEFT GRANDCHILD node\")"
   ]
  },
  {
   "cell_type": "code",
   "execution_count": 3,
   "metadata": {},
   "outputs": [],
   "source": [
    "n1.left_child = n2\n",
    "n1.right_child = n3\n",
    "n2.left_child = n4"
   ]
  },
  {
   "cell_type": "code",
   "execution_count": 4,
   "metadata": {},
   "outputs": [
    {
     "name": "stdout",
     "output_type": "stream",
     "text": [
      "Root Node\n",
      " LEFT child node\n",
      "LEFT GRANDCHILD node\n"
     ]
    }
   ],
   "source": [
    "current = n1\n",
    "while current: \n",
    "    print (current.data)\n",
    "    current = current.left_child"
   ]
  },
  {
   "cell_type": "code",
   "execution_count": 5,
   "metadata": {},
   "outputs": [
    {
     "name": "stdout",
     "output_type": "stream",
     "text": [
      "LEFT GRANDCHILD node\n",
      " LEFT child node\n",
      "Root Node\n",
      " RIGHT child node\n"
     ]
    }
   ],
   "source": [
    "n1.inorder(n1)"
   ]
  },
  {
   "cell_type": "code",
   "execution_count": 6,
   "metadata": {},
   "outputs": [
    {
     "name": "stdout",
     "output_type": "stream",
     "text": [
      "Root Node\n",
      " LEFT child node\n",
      "LEFT GRANDCHILD node\n",
      " RIGHT child node\n"
     ]
    }
   ],
   "source": [
    "n1.preorder(n1)"
   ]
  },
  {
   "cell_type": "code",
   "execution_count": 7,
   "metadata": {},
   "outputs": [
    {
     "name": "stdout",
     "output_type": "stream",
     "text": [
      "LEFT GRANDCHILD node\n",
      " LEFT child node\n",
      " RIGHT child node\n",
      "Root Node\n"
     ]
    }
   ],
   "source": [
    "n1.postorder(n1)"
   ]
  },
  {
   "cell_type": "code",
   "execution_count": 8,
   "metadata": {},
   "outputs": [],
   "source": [
    "from collections import deque\n",
    "class Tree (object):\n",
    "    def __init__ (self, root_node):\n",
    "        self.root_node = root_node\n",
    "        \n",
    "    def breath_first_transversal (self):\n",
    "        list_of_nodes = []\n",
    "        transversal_queue = deque([self.root_node])\n",
    "        while len (transversal_queue) > 0:\n",
    "            node = transversal_queue.popleft()\n",
    "            list_of_nodes.append(node.data)\n",
    "            if node.left_child:\n",
    "                transversal_queue.append(node.left_child)\n",
    "            if node.right_child:\n",
    "                transversal_queue.append(node.right_child)\n",
    "        return list_of_nodes\n"
   ]
  },
  {
   "cell_type": "code",
   "execution_count": 9,
   "metadata": {},
   "outputs": [
    {
     "name": "stdout",
     "output_type": "stream",
     "text": [
      "['Root Node', ' LEFT child node', ' RIGHT child node', 'LEFT GRANDCHILD node']\n"
     ]
    }
   ],
   "source": [
    "myTree = Tree (n1)\n",
    "print (myTree.breath_first_transversal())"
   ]
  },
  {
   "cell_type": "markdown",
   "metadata": {},
   "source": [
    "## Binery Trees"
   ]
  },
  {
   "cell_type": "code",
   "execution_count": 34,
   "metadata": {},
   "outputs": [],
   "source": [
    "class BinaryTree (object):\n",
    "    def __init__(self) -> None:\n",
    "        self.root_node  = None\n",
    "    \n",
    "    def find_min (self) -> int:\n",
    "        current = self.root_node\n",
    "        while current.left_child: \n",
    "            current = current.left_child\n",
    "        return current\n",
    "    def find_max (self) -> int:\n",
    "        current = self.root_node\n",
    "        while current.right_child: \n",
    "            current = current.right_child\n",
    "        return current \n",
    "    def insert (self, data)-> None: \n",
    "        node = Node (data)\n",
    "        if self.root_node is None:\n",
    "            self.root_node = node\n",
    "            return\n",
    "        else:\n",
    "            current = self.root_node\n",
    "            parent = None\n",
    "\n",
    "        while True:\n",
    "            parent = current\n",
    "            if node.data < parent.data:\n",
    "                current = current.left_child\n",
    "                if current == None:\n",
    "                    parent.left_child = node\n",
    "                    return\n",
    "            else:\n",
    "                current = current.right_child\n",
    "                if current == None:\n",
    "                    parent.right_child = node\n",
    "                    return\n",
    "    def get_node_with_parent (self, data):\n",
    "        parent = None\n",
    "        current = self.root_node\n",
    "        while True:\n",
    "            if current == None: \n",
    "                return (parent, None)\n",
    "            if current.data == data:\n",
    "                return (parent, current)\n",
    "            elif current.data > data:\n",
    "                parent = current\n",
    "                current = current.left_child\n",
    "            else:\n",
    "                parent = current\n",
    "                current = current.right_child\n",
    "                \n"
   ]
  },
  {
   "cell_type": "code",
   "execution_count": 35,
   "metadata": {},
   "outputs": [],
   "source": [
    "binaryTree = BinaryTree ()\n",
    "binaryTree.insert(5)\n",
    "binaryTree.insert (7)\n",
    "binaryTree.insert(3)\n",
    "binaryTree.insert(1)\n",
    "binaryTree.insert(4)\n",
    "binaryTree.insert(9)"
   ]
  },
  {
   "cell_type": "code",
   "execution_count": 36,
   "metadata": {},
   "outputs": [
    {
     "name": "stdout",
     "output_type": "stream",
     "text": [
      "(<__main__.Node object at 0x10d893a60>, <__main__.Node object at 0x10d893790>)\n",
      "(<__main__.Node object at 0x10d893280>, None)\n"
     ]
    }
   ],
   "source": [
    "print (binaryTree.get_node_with_parent(7))\n",
    "print (binaryTree.get_node_with_parent(10))"
   ]
  }
 ],
 "metadata": {
  "kernelspec": {
   "display_name": "Python 3.9.6 64-bit",
   "language": "python",
   "name": "python3"
  },
  "language_info": {
   "codemirror_mode": {
    "name": "ipython",
    "version": 3
   },
   "file_extension": ".py",
   "mimetype": "text/x-python",
   "name": "python",
   "nbconvert_exporter": "python",
   "pygments_lexer": "ipython3",
   "version": "3.9.6"
  },
  "orig_nbformat": 4,
  "vscode": {
   "interpreter": {
    "hash": "31f2aee4e71d21fbe5cf8b01ff0e069b9275f58929596ceb00d14d90e3e16cd6"
   }
  }
 },
 "nbformat": 4,
 "nbformat_minor": 2
}
