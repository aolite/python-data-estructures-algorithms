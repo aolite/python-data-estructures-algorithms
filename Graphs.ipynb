{
 "cells": [
  {
   "cell_type": "markdown",
   "metadata": {},
   "source": [
    "# Graphs "
   ]
  },
  {
   "cell_type": "markdown",
   "metadata": {},
   "source": [
    "Initial representation of graphs using adjancency lists: "
   ]
  },
  {
   "cell_type": "code",
   "execution_count": 1,
   "metadata": {},
   "outputs": [],
   "source": [
    "graph = dict()\n",
    "graph ['A'] = ['B', 'C']\n",
    "graph ['B'] = ['E', 'C', 'A']\n",
    "graph ['C'] = ['A', 'B', 'E', 'F']\n",
    "graph ['E'] = ['B', 'C']\n",
    "graph ['F'] = ['C']"
   ]
  },
  {
   "cell_type": "markdown",
   "metadata": {},
   "source": [
    "Construction of the adjacency matrix based on the adjacency list"
   ]
  },
  {
   "cell_type": "code",
   "execution_count": 2,
   "metadata": {},
   "outputs": [],
   "source": [
    "matrix_elements = sorted (graph.keys())\n",
    "cols = rows = len (matrix_elements)\n",
    "\n",
    "adjacency_matrix = [[0 for x in range (rows)] for y in range (cols)]\n",
    "edge_list = []\n",
    "\n",
    "for key in matrix_elements:\n",
    "    for neighbour in graph[key]:\n",
    "        edge_list.append((key, neighbour))"
   ]
  },
  {
   "cell_type": "code",
   "execution_count": 3,
   "metadata": {},
   "outputs": [
    {
     "name": "stdout",
     "output_type": "stream",
     "text": [
      "the matrix is: ['A', 'B', 'C', 'E', 'F']\n",
      "the edge_list is: [('A', 'B'), ('A', 'C'), ('B', 'E'), ('B', 'C'), ('B', 'A'), ('C', 'A'), ('C', 'B'), ('C', 'E'), ('C', 'F'), ('E', 'B'), ('E', 'C'), ('F', 'C')]\n"
     ]
    }
   ],
   "source": [
    "print (f'the matrix is: {matrix_elements}')\n",
    "print (f'the edge_list is: {edge_list}')"
   ]
  },
  {
   "cell_type": "code",
   "execution_count": 8,
   "metadata": {},
   "outputs": [],
   "source": [
    "for edge in edge_list:\n",
    "    index_first_vertex = matrix_elements.index(edge[0])\n",
    "    index_second_vertex = matrix_elements.index(edge[1])\n",
    "\n",
    "    adjacency_matrix [index_first_vertex][index_second_vertex] = 1"
   ]
  },
  {
   "cell_type": "code",
   "execution_count": 9,
   "metadata": {},
   "outputs": [
    {
     "name": "stdout",
     "output_type": "stream",
     "text": [
      "The adjacency matrix is: [[0, 1, 1, 0, 0], [1, 0, 1, 1, 0], [1, 1, 0, 1, 1], [0, 1, 1, 0, 0], [0, 0, 1, 0, 0]]\n"
     ]
    }
   ],
   "source": [
    "print (f'The adjacency matrix is: {adjacency_matrix}')"
   ]
  },
  {
   "cell_type": "markdown",
   "metadata": {},
   "source": [
    "## BFS Algorithm"
   ]
  },
  {
   "cell_type": "markdown",
   "metadata": {},
   "source": [
    "We will use another graph to elaborate the algorithm"
   ]
  },
  {
   "cell_type": "code",
   "execution_count": 10,
   "metadata": {},
   "outputs": [],
   "source": [
    "graph = dict ()\n",
    "graph['A'] = ['B', 'G', 'D']\n",
    "graph['B'] = ['A', 'F', 'E']\n",
    "graph['C'] = ['F', 'H']\n",
    "graph['D'] = ['F', 'A']\n",
    "graph['E'] = ['B', 'G']\n",
    "graph['F'] = ['B', 'D', 'C']\n",
    "graph ['G'] = ['A', 'E']\n",
    "graph ['H'] = ['C']"
   ]
  },
  {
   "cell_type": "code",
   "execution_count": 11,
   "metadata": {},
   "outputs": [],
   "source": [
    "from collections import deque\n",
    "\n",
    "def bfs (graph, root):\n",
    "    visited_vertices = list()\n",
    "    graph_queue = deque([root])\n",
    "\n",
    "    visited_vertices.append(root)\n",
    "    node = root\n",
    "\n",
    "    while len(graph_queue) > 0:\n",
    "        node = graph_queue.popleft()\n",
    "        adj_nodes = graph[node]\n",
    "        \n",
    "        remaining_elements = set (adj_nodes).difference(set(visited_vertices))\n",
    "        if (len(remaining_elements) > 0):\n",
    "            for elem in remaining_elements:\n",
    "                visited_vertices.append(elem)\n",
    "                graph_queue.append(elem)\n",
    "\n",
    "    return visited_vertices\n",
    "\n"
   ]
  },
  {
   "cell_type": "code",
   "execution_count": 13,
   "metadata": {},
   "outputs": [
    {
     "name": "stdout",
     "output_type": "stream",
     "text": [
      "The BFS is: ['A', 'G', 'B', 'D', 'E', 'F', 'C', 'H']\n"
     ]
    }
   ],
   "source": [
    "print (f'The BFS is: {bfs(graph, \"A\")}')"
   ]
  },
  {
   "cell_type": "markdown",
   "metadata": {},
   "source": [
    "## DFS Algorithm"
   ]
  },
  {
   "cell_type": "code",
   "execution_count": 14,
   "metadata": {},
   "outputs": [],
   "source": [
    "graph = dict ()\n",
    "graph['A'] = ['B', 'S']\n",
    "graph['B'] = ['A']\n",
    "graph['S'] = ['A', 'G', 'C']\n",
    "graph['D'] = ['C']\n",
    "graph['G'] = ['S', 'F', 'H']\n",
    "graph['H'] = ['G', 'E']\n",
    "graph['E'] = ['C', 'H']\n",
    "graph['F'] = ['C', 'G']\n",
    "graph['C'] = ['D', 'S', 'E', 'F']"
   ]
  },
  {
   "cell_type": "code",
   "execution_count": 25,
   "metadata": {},
   "outputs": [],
   "source": [
    "def dfs (graph, root):\n",
    "    visited_vertices = list ()\n",
    "    graph_stack = list()\n",
    "\n",
    "    graph_stack.append(root)\n",
    "    node = root\n",
    "\n",
    "    while len (graph_stack) > 0:\n",
    "        if node not in visited_vertices:\n",
    "            visited_vertices.append(node)\n",
    "        adj_nodes = graph[node]\n",
    "        if set(adj_nodes).issubset(set(visited_vertices)):\n",
    "            graph_stack.pop()\n",
    "            if len(graph_stack) > 0:\n",
    "                node = graph_stack [-1]\n",
    "            continue\n",
    "        else:\n",
    "            remaining_elements = set(adj_nodes).difference(set(visited_vertices))\n",
    "        first_adj_node = sorted (remaining_elements)[0]\n",
    "        graph_stack.append(first_adj_node)\n",
    "        node = first_adj_node\n",
    "    return visited_vertices"
   ]
  },
  {
   "cell_type": "code",
   "execution_count": 27,
   "metadata": {},
   "outputs": [
    {
     "name": "stdout",
     "output_type": "stream",
     "text": [
      "The DFS is: ['A', 'B', 'S', 'C', 'D', 'E', 'H', 'G', 'F']\n"
     ]
    }
   ],
   "source": [
    "print (f'The DFS is: {dfs(graph, \"A\")}')"
   ]
  },
  {
   "cell_type": "markdown",
   "metadata": {},
   "source": [
    "## Heap"
   ]
  },
  {
   "cell_type": "code",
   "execution_count": 33,
   "metadata": {},
   "outputs": [],
   "source": [
    "class Heap ():\n",
    "    def __init__(self) -> None:\n",
    "        self.heap = [0]\n",
    "        self.size = 0\n",
    "    def __arrange (self, k): \n",
    "        while k//2 > 0:\n",
    "            if self.heap [k] < self.heap [k//2]:\n",
    "                self.heap[k], self.heap [k//2] = self.heap[k//2], self.heap[k]\n",
    "            k//=2\n",
    "    def __minindex (self, k):\n",
    "        if k*2 + 1 > self.size:\n",
    "            return k*2\n",
    "        elif self.heap[k*2] < self.heap[k*2 +1]:\n",
    "            return k*2\n",
    "        else: \n",
    "            return k*2 + 1\n",
    "    \n",
    "    def __sink (self, k):\n",
    "        while k*2 <- self.size:\n",
    "            mi = self.__minindex(k)\n",
    "            if self.heap[k]> self.heap[mi]:\n",
    "                self.heap[k], self.heap[mi] = self.heap[mi], self.heap[k]\n",
    "            k = mi\n",
    "\n",
    "    def insert (self, item):\n",
    "        self.heap.append(item)\n",
    "        self.size += 1\n",
    "        self.__arrange(self.size)\n",
    "    \n",
    "    def pop (self):\n",
    "        item = self.heap[1]\n",
    "        self.heap[1] = self.heap[self.size]\n",
    "        self.size -= 1\n",
    "        self.heap.pop()\n",
    "        self.__sink(1)\n",
    "        return item"
   ]
  },
  {
   "cell_type": "code",
   "execution_count": 34,
   "metadata": {},
   "outputs": [
    {
     "name": "stdout",
     "output_type": "stream",
     "text": [
      "3\n"
     ]
    }
   ],
   "source": [
    "heap = Heap ()\n",
    "heap.insert (3)\n",
    "heap.insert(5)\n",
    "heap.insert(6)\n",
    "heap.insert(4)\n",
    "heap.insert(7)\n",
    "heap.insert(9)\n",
    "\n",
    "print (f'{heap.pop()}')\n"
   ]
  },
  {
   "cell_type": "markdown",
   "metadata": {},
   "source": [
    "### Testing Heaps"
   ]
  },
  {
   "cell_type": "code",
   "execution_count": 35,
   "metadata": {},
   "outputs": [
    {
     "name": "stdout",
     "output_type": "stream",
     "text": [
      "[0, 4]\n",
      "[0, 4, 8]\n",
      "[0, 4, 8, 7]\n",
      "[0, 2, 4, 7, 8]\n",
      "[0, 2, 4, 7, 8, 9]\n",
      "[0, 2, 4, 7, 8, 9, 10]\n",
      "[0, 2, 4, 5, 8, 9, 10, 7]\n",
      "[0, 1, 2, 5, 4, 9, 10, 7, 8]\n",
      "[0, 1, 2, 5, 3, 9, 10, 7, 8, 4]\n",
      "[0, 1, 2, 5, 3, 6, 10, 7, 8, 4, 9]\n"
     ]
    }
   ],
   "source": [
    "h = Heap()\n",
    "for i in (4,8,7,2,9,10,5,1,3,6):\n",
    "    h.insert(i)\n",
    "    print (h.heap)"
   ]
  },
  {
   "cell_type": "code",
   "execution_count": 36,
   "metadata": {},
   "outputs": [
    {
     "name": "stdout",
     "output_type": "stream",
     "text": [
      "1\n",
      "[0, 9, 2, 5, 3, 6, 10, 7, 8, 4]\n",
      "9\n",
      "[0, 4, 2, 5, 3, 6, 10, 7, 8]\n",
      "4\n",
      "[0, 8, 2, 5, 3, 6, 10, 7]\n",
      "8\n",
      "[0, 7, 2, 5, 3, 6, 10]\n",
      "7\n",
      "[0, 10, 2, 5, 3, 6]\n",
      "10\n",
      "[0, 6, 2, 5, 3]\n",
      "6\n",
      "[0, 3, 2, 5]\n",
      "3\n",
      "[0, 5, 2]\n",
      "5\n",
      "[0, 2]\n",
      "2\n",
      "[0]\n"
     ]
    }
   ],
   "source": [
    "for i in range (10):\n",
    "    n = h.pop()\n",
    "    print (n)\n",
    "    print (h.heap)"
   ]
  }
 ],
 "metadata": {
  "kernelspec": {
   "display_name": "Python 3.9.6 64-bit",
   "language": "python",
   "name": "python3"
  },
  "language_info": {
   "codemirror_mode": {
    "name": "ipython",
    "version": 3
   },
   "file_extension": ".py",
   "mimetype": "text/x-python",
   "name": "python",
   "nbconvert_exporter": "python",
   "pygments_lexer": "ipython3",
   "version": "3.9.6"
  },
  "orig_nbformat": 4,
  "vscode": {
   "interpreter": {
    "hash": "31f2aee4e71d21fbe5cf8b01ff0e069b9275f58929596ceb00d14d90e3e16cd6"
   }
  }
 },
 "nbformat": 4,
 "nbformat_minor": 2
}
