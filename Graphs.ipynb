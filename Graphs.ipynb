{
 "cells": [
  {
   "cell_type": "markdown",
   "metadata": {},
   "source": [
    "# Graphs "
   ]
  },
  {
   "cell_type": "markdown",
   "metadata": {},
   "source": [
    "Initial representation of graphs using adjancency lists: "
   ]
  },
  {
   "cell_type": "code",
   "execution_count": 1,
   "metadata": {},
   "outputs": [],
   "source": [
    "graph = dict()\n",
    "graph ['A'] = ['B', 'C']\n",
    "graph ['B'] = ['E', 'C', 'A']\n",
    "graph ['C'] = ['A', 'B', 'E', 'F']\n",
    "graph ['E'] = ['B', 'C']\n",
    "graph ['F'] = ['C']"
   ]
  },
  {
   "cell_type": "markdown",
   "metadata": {},
   "source": [
    "Construction of the adjacency matrix based on the adjacency list"
   ]
  },
  {
   "cell_type": "code",
   "execution_count": 2,
   "metadata": {},
   "outputs": [],
   "source": [
    "matrix_elements = sorted (graph.keys())\n",
    "cols = rows = len (matrix_elements)\n",
    "\n",
    "adjacency_matrix = [[0 for x in range (rows)] for y in range (cols)]\n",
    "edge_list = []\n",
    "\n",
    "for key in matrix_elements:\n",
    "    for neighbour in graph[key]:\n",
    "        edge_list.append((key, neighbour))"
   ]
  },
  {
   "cell_type": "code",
   "execution_count": 3,
   "metadata": {},
   "outputs": [
    {
     "name": "stdout",
     "output_type": "stream",
     "text": [
      "the matrix is: ['A', 'B', 'C', 'E', 'F']\n",
      "the edge_list is: [('A', 'B'), ('A', 'C'), ('B', 'E'), ('B', 'C'), ('B', 'A'), ('C', 'A'), ('C', 'B'), ('C', 'E'), ('C', 'F'), ('E', 'B'), ('E', 'C'), ('F', 'C')]\n"
     ]
    }
   ],
   "source": [
    "print (f'the matrix is: {matrix_elements}')\n",
    "print (f'the edge_list is: {edge_list}')"
   ]
  },
  {
   "cell_type": "code",
   "execution_count": 8,
   "metadata": {},
   "outputs": [],
   "source": [
    "for edge in edge_list:\n",
    "    index_first_vertex = matrix_elements.index(edge[0])\n",
    "    index_second_vertex = matrix_elements.index(edge[1])\n",
    "\n",
    "    adjacency_matrix [index_first_vertex][index_second_vertex] = 1"
   ]
  },
  {
   "cell_type": "code",
   "execution_count": 9,
   "metadata": {},
   "outputs": [
    {
     "name": "stdout",
     "output_type": "stream",
     "text": [
      "The adjacency matrix is: [[0, 1, 1, 0, 0], [1, 0, 1, 1, 0], [1, 1, 0, 1, 1], [0, 1, 1, 0, 0], [0, 0, 1, 0, 0]]\n"
     ]
    }
   ],
   "source": [
    "print (f'The adjacency matrix is: {adjacency_matrix}')"
   ]
  },
  {
   "cell_type": "markdown",
   "metadata": {},
   "source": [
    "## BFS Algorithm"
   ]
  },
  {
   "cell_type": "markdown",
   "metadata": {},
   "source": [
    "We will use another graph to elaborate the algorithm"
   ]
  },
  {
   "cell_type": "code",
   "execution_count": 10,
   "metadata": {},
   "outputs": [],
   "source": [
    "graph = dict ()\n",
    "graph['A'] = ['B', 'G', 'D']\n",
    "graph['B'] = ['A', 'F', 'E']\n",
    "graph['C'] = ['F', 'H']\n",
    "graph['D'] = ['F', 'A']\n",
    "graph['E'] = ['B', 'G']\n",
    "graph['F'] = ['B', 'D', 'C']\n",
    "graph ['G'] = ['A', 'E']\n",
    "graph ['H'] = ['C']"
   ]
  },
  {
   "cell_type": "code",
   "execution_count": 11,
   "metadata": {},
   "outputs": [],
   "source": [
    "from collections import deque\n",
    "\n",
    "def bfs (graph, root):\n",
    "    visited_vertices = list()\n",
    "    graph_queue = deque([root])\n",
    "\n",
    "    visited_vertices.append(root)\n",
    "    node = root\n",
    "\n",
    "    while len(graph_queue) > 0:\n",
    "        node = graph_queue.popleft()\n",
    "        adj_nodes = graph[node]\n",
    "        \n",
    "        remaining_elements = set (adj_nodes).difference(set(visited_vertices))\n",
    "        if (len(remaining_elements) > 0):\n",
    "            for elem in remaining_elements:\n",
    "                visited_vertices.append(elem)\n",
    "                graph_queue.append(elem)\n",
    "\n",
    "    return visited_vertices\n",
    "\n"
   ]
  },
  {
   "cell_type": "code",
   "execution_count": 13,
   "metadata": {},
   "outputs": [
    {
     "name": "stdout",
     "output_type": "stream",
     "text": [
      "The BFS is: ['A', 'G', 'B', 'D', 'E', 'F', 'C', 'H']\n"
     ]
    }
   ],
   "source": [
    "print (f'The BFS is: {bfs(graph, \"A\")}')"
   ]
  },
  {
   "cell_type": "markdown",
   "metadata": {},
   "source": [
    "## DFS Algorithm"
   ]
  },
  {
   "cell_type": "code",
   "execution_count": 14,
   "metadata": {},
   "outputs": [],
   "source": [
    "graph = dict ()\n",
    "graph['A'] = ['B', 'S']\n",
    "graph['B'] = ['A']\n",
    "graph['S'] = ['A', 'G', 'C']\n",
    "graph['D'] = ['C']\n",
    "graph['G'] = ['S', 'F', 'H']\n",
    "graph['H'] = ['G', 'E']\n",
    "graph['E'] = ['C', 'H']\n",
    "graph['F'] = ['C', 'G']\n",
    "graph['C'] = ['D', 'S', 'E', 'F']"
   ]
  },
  {
   "cell_type": "code",
   "execution_count": 25,
   "metadata": {},
   "outputs": [],
   "source": [
    "def dfs (graph, root):\n",
    "    visited_vertices = list ()\n",
    "    graph_stack = list()\n",
    "\n",
    "    graph_stack.append(root)\n",
    "    node = root\n",
    "\n",
    "    while len (graph_stack) > 0:\n",
    "        if node not in visited_vertices:\n",
    "            visited_vertices.append(node)\n",
    "        adj_nodes = graph[node]\n",
    "        if set(adj_nodes).issubset(set(visited_vertices)):\n",
    "            graph_stack.pop()\n",
    "            if len(graph_stack) > 0:\n",
    "                node = graph_stack [-1]\n",
    "            continue\n",
    "        else:\n",
    "            remaining_elements = set(adj_nodes).difference(set(visited_vertices))\n",
    "        first_adj_node = sorted (remaining_elements)[0]\n",
    "        graph_stack.append(first_adj_node)\n",
    "        node = first_adj_node\n",
    "    return visited_vertices"
   ]
  },
  {
   "cell_type": "code",
   "execution_count": 24,
   "metadata": {},
   "outputs": [
    {
     "ename": "IndexError",
     "evalue": "list index out of range",
     "output_type": "error",
     "traceback": [
      "\u001b[0;31m---------------------------------------------------------------------------\u001b[0m",
      "\u001b[0;31mIndexError\u001b[0m                                Traceback (most recent call last)",
      "Cell \u001b[0;32mIn [24], line 1\u001b[0m\n\u001b[0;32m----> 1\u001b[0m \u001b[39mprint\u001b[39m (\u001b[39mf\u001b[39m\u001b[39m'\u001b[39m\u001b[39mThe BFS is: \u001b[39m\u001b[39m{\u001b[39;00mdfs(graph, \u001b[39m\"\u001b[39m\u001b[39mA\u001b[39m\u001b[39m\"\u001b[39m)\u001b[39m}\u001b[39;00m\u001b[39m'\u001b[39m)\n",
      "Cell \u001b[0;32mIn [23], line 19\u001b[0m, in \u001b[0;36mdfs\u001b[0;34m(graph, root)\u001b[0m\n\u001b[1;32m     17\u001b[0m \u001b[39melse\u001b[39;00m:\n\u001b[1;32m     18\u001b[0m     remaining_elements \u001b[39m=\u001b[39m \u001b[39mset\u001b[39m(adj_nodes)\u001b[39m.\u001b[39mdifference(\u001b[39mset\u001b[39m(visited_vertices))\n\u001b[0;32m---> 19\u001b[0m     first_adj_node \u001b[39m=\u001b[39m \u001b[39msorted\u001b[39;49m (remaining_elements)[\u001b[39m0\u001b[39;49m]\n\u001b[1;32m     20\u001b[0m     graph_stack\u001b[39m.\u001b[39mappend(first_adj_node)\n\u001b[1;32m     21\u001b[0m     node \u001b[39m=\u001b[39m first_adj_node\n",
      "\u001b[0;31mIndexError\u001b[0m: list index out of range"
     ]
    }
   ],
   "source": [
    "print (f'The BFS is: {dfs(graph, \"A\")}')"
   ]
  }
 ],
 "metadata": {
  "kernelspec": {
   "display_name": "Python 3.9.6 64-bit",
   "language": "python",
   "name": "python3"
  },
  "language_info": {
   "codemirror_mode": {
    "name": "ipython",
    "version": 3
   },
   "file_extension": ".py",
   "mimetype": "text/x-python",
   "name": "python",
   "nbconvert_exporter": "python",
   "pygments_lexer": "ipython3",
   "version": "3.9.6"
  },
  "orig_nbformat": 4,
  "vscode": {
   "interpreter": {
    "hash": "31f2aee4e71d21fbe5cf8b01ff0e069b9275f58929596ceb00d14d90e3e16cd6"
   }
  }
 },
 "nbformat": 4,
 "nbformat_minor": 2
}
