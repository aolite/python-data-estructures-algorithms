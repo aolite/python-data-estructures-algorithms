{
 "cells": [
  {
   "cell_type": "markdown",
   "metadata": {},
   "source": [
    "# Sorting"
   ]
  },
  {
   "cell_type": "markdown",
   "metadata": {},
   "source": [
    "## Bubble Sort Algorithm"
   ]
  },
  {
   "cell_type": "code",
   "execution_count": 1,
   "metadata": {},
   "outputs": [],
   "source": [
    "def bubbleSort (list):\n",
    "    swapped = False\n",
    "    for i in range (len (list)-1):\n",
    "        for j in range (len(list)-i-1):\n",
    "            if (list[j] > list [j+1]):\n",
    "                swapped = True\n",
    "                list[j], list[j+1] = list[j+1], list[j]\n",
    "        if not swapped:\n",
    "            return"
   ]
  },
  {
   "cell_type": "code",
   "execution_count": 2,
   "metadata": {},
   "outputs": [
    {
     "name": "stdout",
     "output_type": "stream",
     "text": [
      "Array without sort: [64, 34, 25, 12, 22, 11, 90]\n",
      "Array sorted: [11, 12, 22, 25, 34, 64, 90]\n"
     ]
    }
   ],
   "source": [
    "list = [64, 34, 25, 12, 22, 11, 90]\n",
    "print (f'Array without sort: {list}')\n",
    "bubbleSort(list)\n",
    "print (f'Array sorted: {list}')"
   ]
  },
  {
   "cell_type": "markdown",
   "metadata": {},
   "source": [
    "## Insertion sort"
   ]
  },
  {
   "cell_type": "code",
   "execution_count": 3,
   "metadata": {},
   "outputs": [],
   "source": [
    "def insertion_sort(list):\n",
    "    for i in range (1, len(list)):\n",
    "        key = list[i]\n",
    "\n",
    "        j = i-1 \n",
    "        while j >= 0 and key < list [j]:\n",
    "            list[j+1] = list[j]\n",
    "            j-=1\n",
    "        \n",
    "        list[j+1] = key"
   ]
  },
  {
   "cell_type": "code",
   "execution_count": 4,
   "metadata": {},
   "outputs": [
    {
     "name": "stdout",
     "output_type": "stream",
     "text": [
      "Array without sort: [64, 34, 25, 12, 22, 11, 90]\n",
      "Array sorted: [11, 12, 22, 25, 34, 64, 90]\n"
     ]
    }
   ],
   "source": [
    "list = [64, 34, 25, 12, 22, 11, 90]\n",
    "print (f'Array without sort: {list}')\n",
    "bubbleSort(list)\n",
    "print (f'Array sorted: {list}')"
   ]
  },
  {
   "cell_type": "markdown",
   "metadata": {},
   "source": [
    "## Selection sort"
   ]
  },
  {
   "cell_type": "code",
   "execution_count": 5,
   "metadata": {},
   "outputs": [],
   "source": [
    "def selection_sort (list):\n",
    "    for i in range (len(list)):\n",
    "        min_index = i\n",
    "        for j in range (i+1, len(list)):\n",
    "            if list [j] < list [min_index]:\n",
    "                min_index = j\n",
    "        (list[i], list[min_index]) = (list[min_index], list[i])"
   ]
  },
  {
   "cell_type": "code",
   "execution_count": 6,
   "metadata": {},
   "outputs": [
    {
     "name": "stdout",
     "output_type": "stream",
     "text": [
      "Array without sort: [64, 34, 25, 12, 22, 11, 90]\n",
      "Array sorted: [11, 12, 22, 25, 34, 64, 90]\n"
     ]
    }
   ],
   "source": [
    "list = [64, 34, 25, 12, 22, 11, 90]\n",
    "print (f'Array without sort: {list}')\n",
    "bubbleSort(list)\n",
    "print (f'Array sorted: {list}')"
   ]
  },
  {
   "cell_type": "markdown",
   "metadata": {},
   "source": [
    "## Quick Sort"
   ]
  },
  {
   "cell_type": "code",
   "execution_count": 1,
   "metadata": {},
   "outputs": [],
   "source": [
    "def partition (unsorted_list, low, high):\n",
    "\n",
    "    pivot = unsorted_list [high]\n",
    "\n",
    "    i = low - 1\n",
    "\n",
    "    for index in range (low, high):\n",
    "        if unsorted_list [j] <= pivot:\n",
    "            i += 1\n",
    "            (unsorted_list[i], unsorted_list[j]) = (unsorted_list[j], unsorted_list[i])\n",
    "\n",
    "    (unsorted_list[i + 1], unsorted_list[high]) = (unsorted_list[high], unsorted_list[i + 1])\n",
    "\n",
    "    return i+1\n"
   ]
  },
  {
   "cell_type": "code",
   "execution_count": 2,
   "metadata": {},
   "outputs": [],
   "source": [
    "def quicksort (unsorted_list,low, high):\n",
    "    if low < high:\n",
    "        pi = partition(unsorted_list, low, high)\n",
    "\n",
    "        quicksort(unsorted_list, low, pi - 1)\n",
    "        quicksort(unsorted_list, pi + 1, high)\n",
    "\n",
    "        \n"
   ]
  },
  {
   "cell_type": "code",
   "execution_count": 3,
   "metadata": {},
   "outputs": [
    {
     "name": "stdout",
     "output_type": "stream",
     "text": [
      "Array without sort: [64, 34, 25, 12, 22, 11, 90]\n"
     ]
    },
    {
     "ename": "TypeError",
     "evalue": "quicksort() missing 2 required positional arguments: 'low' and 'high'",
     "output_type": "error",
     "traceback": [
      "\u001b[0;31m---------------------------------------------------------------------------\u001b[0m",
      "\u001b[0;31mTypeError\u001b[0m                                 Traceback (most recent call last)",
      "Cell \u001b[0;32mIn [3], line 3\u001b[0m\n\u001b[1;32m      1\u001b[0m \u001b[39mlist\u001b[39m \u001b[39m=\u001b[39m [\u001b[39m64\u001b[39m, \u001b[39m34\u001b[39m, \u001b[39m25\u001b[39m, \u001b[39m12\u001b[39m, \u001b[39m22\u001b[39m, \u001b[39m11\u001b[39m, \u001b[39m90\u001b[39m]\n\u001b[1;32m      2\u001b[0m \u001b[39mprint\u001b[39m (\u001b[39mf\u001b[39m\u001b[39m'\u001b[39m\u001b[39mArray without sort: \u001b[39m\u001b[39m{\u001b[39;00m\u001b[39mlist\u001b[39m\u001b[39m}\u001b[39;00m\u001b[39m'\u001b[39m)\n\u001b[0;32m----> 3\u001b[0m quicksort(\u001b[39mlist\u001b[39;49m)\n\u001b[1;32m      4\u001b[0m \u001b[39mprint\u001b[39m (\u001b[39mf\u001b[39m\u001b[39m'\u001b[39m\u001b[39mArray sorted: \u001b[39m\u001b[39m{\u001b[39;00m\u001b[39mlist\u001b[39m\u001b[39m}\u001b[39;00m\u001b[39m'\u001b[39m)\n",
      "\u001b[0;31mTypeError\u001b[0m: quicksort() missing 2 required positional arguments: 'low' and 'high'"
     ]
    }
   ],
   "source": [
    "list = [64, 34, 25, 12, 22, 11, 90]\n",
    "print (f'Array without sort: {list}')\n",
    "quicksort(list, 0, len(list -1))\n",
    "print (f'Array sorted: {list}')"
   ]
  }
 ],
 "metadata": {
  "kernelspec": {
   "display_name": "Python 3.10.7 64-bit",
   "language": "python",
   "name": "python3"
  },
  "language_info": {
   "codemirror_mode": {
    "name": "ipython",
    "version": 3
   },
   "file_extension": ".py",
   "mimetype": "text/x-python",
   "name": "python",
   "nbconvert_exporter": "python",
   "pygments_lexer": "ipython3",
   "version": "3.10.7"
  },
  "orig_nbformat": 4,
  "vscode": {
   "interpreter": {
    "hash": "aee8b7b246df8f9039afb4144a1f6fd8d2ca17a180786b69acc140d282b71a49"
   }
  }
 },
 "nbformat": 4,
 "nbformat_minor": 2
}
