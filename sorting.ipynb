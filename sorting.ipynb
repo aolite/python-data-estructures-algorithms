{
 "cells": [
  {
   "cell_type": "markdown",
   "metadata": {},
   "source": [
    "# Sorting"
   ]
  },
  {
   "cell_type": "markdown",
   "metadata": {},
   "source": [
    "## Bubble Sort Algorithm"
   ]
  },
  {
   "cell_type": "code",
   "execution_count": 1,
   "metadata": {},
   "outputs": [],
   "source": [
    "def bubbleSort (list):\n",
    "    swapped = False\n",
    "    for i in range (len (list)-1):\n",
    "        for j in range (len(list)-i-1):\n",
    "            if (list[j] > list [j+1]):\n",
    "                swapped = True\n",
    "                list[j], list[j+1] = list[j+1], list[j]\n",
    "        if not swapped:\n",
    "            return"
   ]
  },
  {
   "cell_type": "code",
   "execution_count": 2,
   "metadata": {},
   "outputs": [
    {
     "name": "stdout",
     "output_type": "stream",
     "text": [
      "Array without sort: [64, 34, 25, 12, 22, 11, 90]\n",
      "Array sorted: [11, 12, 22, 25, 34, 64, 90]\n"
     ]
    }
   ],
   "source": [
    "list = [64, 34, 25, 12, 22, 11, 90]\n",
    "print (f'Array without sort: {list}')\n",
    "bubbleSort(list)\n",
    "print (f'Array sorted: {list}')"
   ]
  },
  {
   "cell_type": "markdown",
   "metadata": {},
   "source": [
    "## Insertion sort"
   ]
  },
  {
   "cell_type": "code",
   "execution_count": 3,
   "metadata": {},
   "outputs": [],
   "source": [
    "def insertion_sort(list):\n",
    "    for i in range (1, len(list)):\n",
    "        key = list[i]\n",
    "\n",
    "        j = i-1 \n",
    "        while j >= 0 and key < list [j]:\n",
    "            list[j+1] = list[j]\n",
    "            j-=1\n",
    "        \n",
    "        list[j+1] = key"
   ]
  },
  {
   "cell_type": "code",
   "execution_count": 4,
   "metadata": {},
   "outputs": [
    {
     "name": "stdout",
     "output_type": "stream",
     "text": [
      "Array without sort: [64, 34, 25, 12, 22, 11, 90]\n",
      "Array sorted: [11, 12, 22, 25, 34, 64, 90]\n"
     ]
    }
   ],
   "source": [
    "list = [64, 34, 25, 12, 22, 11, 90]\n",
    "print (f'Array without sort: {list}')\n",
    "bubbleSort(list)\n",
    "print (f'Array sorted: {list}')"
   ]
  },
  {
   "cell_type": "markdown",
   "metadata": {},
   "source": [
    "## Selection sort"
   ]
  },
  {
   "cell_type": "code",
   "execution_count": 5,
   "metadata": {},
   "outputs": [],
   "source": [
    "def selection_sort (list):\n",
    "    for i in range (len(list)):\n",
    "        min_index = i\n",
    "        for j in range (i+1, len(list)):\n",
    "            if list [j] < list [min_index]:\n",
    "                min_index = j\n",
    "        (list[i], list[min_index]) = (list[min_index], list[i])"
   ]
  },
  {
   "cell_type": "code",
   "execution_count": 6,
   "metadata": {},
   "outputs": [
    {
     "name": "stdout",
     "output_type": "stream",
     "text": [
      "Array without sort: [64, 34, 25, 12, 22, 11, 90]\n",
      "Array sorted: [11, 12, 22, 25, 34, 64, 90]\n"
     ]
    }
   ],
   "source": [
    "list = [64, 34, 25, 12, 22, 11, 90]\n",
    "print (f'Array without sort: {list}')\n",
    "bubbleSort(list)\n",
    "print (f'Array sorted: {list}')"
   ]
  }
 ],
 "metadata": {
  "kernelspec": {
   "display_name": "Python 3.10.8 64-bit",
   "language": "python",
   "name": "python3"
  },
  "language_info": {
   "codemirror_mode": {
    "name": "ipython",
    "version": 3
   },
   "file_extension": ".py",
   "mimetype": "text/x-python",
   "name": "python",
   "nbconvert_exporter": "python",
   "pygments_lexer": "ipython3",
   "version": "3.10.8"
  },
  "orig_nbformat": 4,
  "vscode": {
   "interpreter": {
    "hash": "b0fa6594d8f4cbf19f97940f81e996739fb7646882a419484c72d19e05852a7e"
   }
  }
 },
 "nbformat": 4,
 "nbformat_minor": 2
}
