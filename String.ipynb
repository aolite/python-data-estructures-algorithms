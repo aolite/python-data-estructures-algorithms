{
 "cells": [
  {
   "cell_type": "markdown",
   "metadata": {},
   "source": [
    "# String Algorithm and Techniques"
   ]
  },
  {
   "cell_type": "markdown",
   "metadata": {},
   "source": [
    "## Brute Force Pattern Matching"
   ]
  },
  {
   "cell_type": "code",
   "execution_count": 3,
   "metadata": {},
   "outputs": [],
   "source": [
    "def brute_force (text, pattern):\n",
    "    text_length = len (text)\n",
    "    pattern_length = len (pattern)\n",
    "\n",
    "    i = 0\n",
    "    j = 0\n",
    "\n",
    "    flag = False\n",
    "\n",
    "    while i < text_length:\n",
    "        j = 0\n",
    "        count = 0\n",
    "\n",
    "        while j < pattern_length:\n",
    "            if i + j < text_length and text [i+j] == pattern [j]:\n",
    "                count += 1\n",
    "            j+= 1\n",
    "\n",
    "        if count == pattern_length:\n",
    "            print (f'Pattern occurs at index: {i}')\n",
    "            flag = True\n",
    "        \n",
    "        i+= 1\n",
    "    if not flag: \n",
    "        print (f'Pattern is not present in the entire arrray')    "
   ]
  },
  {
   "cell_type": "code",
   "execution_count": 4,
   "metadata": {},
   "outputs": [
    {
     "name": "stdout",
     "output_type": "stream",
     "text": [
      "Pattern occurs at index: 14\n"
     ]
    }
   ],
   "source": [
    "brute_force('acbcabccababcaacbcac','acbcac')"
   ]
  },
  {
   "cell_type": "markdown",
   "metadata": {},
   "source": [
    "## Rabin-Karp Algorithm"
   ]
  },
  {
   "cell_type": "code",
   "execution_count": 5,
   "metadata": {},
   "outputs": [],
   "source": [
    "def generate_hash (text, pattern):\n",
    "    ord_text = [ord(i) for i in text]\n",
    "    ord_pattern = [ord(j) for j in pattern]\n",
    "\n",
    "    len_text = len (text)\n",
    "    len_pattern = len (pattern)\n",
    "\n",
    "    hash_pattern = sum (ord_pattern)\n",
    "    len_hash_array = len_text - len_pattern + 1\n",
    "\n",
    "    hash_text = [0] * (len_hash_array)\n",
    "    for i in range (0, len_hash_array):\n",
    "        if i == 0:\n",
    "            hash_text[i] = sum (ord_text[:len_pattern])\n",
    "        else:\n",
    "            hash_text[i] = (hash_text [i-1] - ord_text[i-1]) + ord_text [i+len_pattern -1]\n",
    "    \n",
    "    return [hash_text, hash_pattern]"
   ]
  },
  {
   "cell_type": "code",
   "execution_count": 6,
   "metadata": {},
   "outputs": [],
   "source": [
    "def Rabin_Karp_Matcher (text, pattern):\n",
    "    text = str (text)\n",
    "    pattern = str (pattern)\n",
    "\n",
    "    hash_text, hash_pattern = generate_hash(text, pattern)\n",
    "    len_text = len (text)\n",
    "    len_pattern = len (pattern)\n",
    "\n",
    "    flag = False\n",
    "    for i in range(len(hash_text)):\n",
    "        if hash_text[i] == hash_pattern:\n",
    "            count = 0\n",
    "            for j in range (len_pattern):\n",
    "                if pattern [j] == text [i+j]:\n",
    "                    count+=1\n",
    "                else:\n",
    "                    break\n",
    "            if count == len_pattern:\n",
    "                flag = True\n",
    "                print (f'Pattern occurs at index: {i}')\n",
    "    if not flag:\n",
    "         print (f'Pattern is not present in the entire arrray')"
   ]
  },
  {
   "cell_type": "code",
   "execution_count": 7,
   "metadata": {},
   "outputs": [
    {
     "name": "stdout",
     "output_type": "stream",
     "text": [
      "Pattern occurs at index: 14\n"
     ]
    }
   ],
   "source": [
    "Rabin_Karp_Matcher('acbcabccababcaacbcac','acbcac')"
   ]
  }
 ],
 "metadata": {
  "kernelspec": {
   "display_name": "Python 3.10.8 64-bit",
   "language": "python",
   "name": "python3"
  },
  "language_info": {
   "codemirror_mode": {
    "name": "ipython",
    "version": 3
   },
   "file_extension": ".py",
   "mimetype": "text/x-python",
   "name": "python",
   "nbconvert_exporter": "python",
   "pygments_lexer": "ipython3",
   "version": "3.10.8"
  },
  "orig_nbformat": 4,
  "vscode": {
   "interpreter": {
    "hash": "b0fa6594d8f4cbf19f97940f81e996739fb7646882a419484c72d19e05852a7e"
   }
  }
 },
 "nbformat": 4,
 "nbformat_minor": 2
}
