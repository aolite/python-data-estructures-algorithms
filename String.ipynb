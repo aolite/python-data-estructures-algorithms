{
 "cells": [
  {
   "cell_type": "markdown",
   "metadata": {},
   "source": [
    "# String Algorithm and Techniques"
   ]
  },
  {
   "cell_type": "markdown",
   "metadata": {},
   "source": [
    "## Brute Force Pattern Matching"
   ]
  },
  {
   "cell_type": "code",
   "execution_count": 3,
   "metadata": {},
   "outputs": [],
   "source": [
    "def brute_force (text, pattern):\n",
    "    text_length = len (text)\n",
    "    pattern_length = len (pattern)\n",
    "\n",
    "    i = 0\n",
    "    j = 0\n",
    "\n",
    "    flag = False\n",
    "\n",
    "    while i < text_length:\n",
    "        j = 0\n",
    "        count = 0\n",
    "\n",
    "        while j < pattern_length:\n",
    "            if i + j < text_length and text [i+j] == pattern [j]:\n",
    "                count += 1\n",
    "            j+= 1\n",
    "\n",
    "        if count == pattern_length:\n",
    "            print (f'Pattern occurs at index: {i}')\n",
    "            flag = True\n",
    "        \n",
    "        i+= 1\n",
    "    if not flag: \n",
    "        print (f'Pattern is not present in the entire arrray')    "
   ]
  },
  {
   "cell_type": "code",
   "execution_count": 4,
   "metadata": {},
   "outputs": [
    {
     "name": "stdout",
     "output_type": "stream",
     "text": [
      "Pattern occurs at index: 14\n"
     ]
    }
   ],
   "source": [
    "brute_force('acbcabccababcaacbcac','acbcac')"
   ]
  }
 ],
 "metadata": {
  "kernelspec": {
   "display_name": "Python 3.10.8 64-bit",
   "language": "python",
   "name": "python3"
  },
  "language_info": {
   "codemirror_mode": {
    "name": "ipython",
    "version": 3
   },
   "file_extension": ".py",
   "mimetype": "text/x-python",
   "name": "python",
   "nbconvert_exporter": "python",
   "pygments_lexer": "ipython3",
   "version": "3.10.8"
  },
  "orig_nbformat": 4,
  "vscode": {
   "interpreter": {
    "hash": "b0fa6594d8f4cbf19f97940f81e996739fb7646882a419484c72d19e05852a7e"
   }
  }
 },
 "nbformat": 4,
 "nbformat_minor": 2
}
