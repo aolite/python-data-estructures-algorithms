{
 "cells": [
  {
   "cell_type": "markdown",
   "metadata": {},
   "source": [
    "# List and Pointers"
   ]
  },
  {
   "cell_type": "markdown",
   "metadata": {},
   "source": [
    "## Node Class"
   ]
  },
  {
   "cell_type": "code",
   "execution_count": 41,
   "metadata": {},
   "outputs": [],
   "source": [
    "class Node (): \n",
    "    def __init__ (self, data= None):\n",
    "        self.data = data\n",
    "        self.next = None\n",
    "    def __str__ (self):\n",
    "        return str(self.data)"
   ]
  },
  {
   "cell_type": "markdown",
   "metadata": {},
   "source": [
    "## Single linked list"
   ]
  },
  {
   "cell_type": "code",
   "execution_count": 42,
   "metadata": {},
   "outputs": [],
   "source": [
    "n1= Node (\"egg\")\n",
    "n2= Node (\"banana\")\n",
    "n3 = Node (\"spam\")\n",
    "\n",
    "n1.next = n2; \n",
    "n2.next = n3; "
   ]
  },
  {
   "cell_type": "code",
   "execution_count": 43,
   "metadata": {},
   "outputs": [
    {
     "name": "stdout",
     "output_type": "stream",
     "text": [
      "egg\n",
      "banana\n",
      "spam\n"
     ]
    }
   ],
   "source": [
    "current = n1\n",
    "while current:\n",
    "    print (current.data)\n",
    "    current = current.next"
   ]
  },
  {
   "cell_type": "markdown",
   "metadata": {},
   "source": [
    "## Single linked list class"
   ]
  },
  {
   "cell_type": "code",
   "execution_count": 44,
   "metadata": {},
   "outputs": [],
   "source": [
    "class SingleLinkedClass ():\n",
    "    def __init__ (self):\n",
    "        self.tail = None\n",
    "        self.head = None\n",
    "        self.size = 0;\n",
    "    def append (self, data = None):\n",
    "        #Encapsulate data into a Node object\n",
    "        node = Node (data)\n",
    "        if (self.head):\n",
    "            self.head.next = node\n",
    "            self.head = node\n",
    "        else:\n",
    "            self.tail = node\n",
    "            self.head = node\n",
    "        self.size+=1\n",
    "\n",
    "    def size (self):\n",
    "        return self.size\n",
    "    \n",
    "    def iter (self):\n",
    "        current = self.tail\n",
    "        while current:\n",
    "            val = current.data\n",
    "            current = current.next\n",
    "            yield val\n",
    "    def delete (self, data):\n",
    "        current = self.tail\n",
    "        prev = self. tail\n",
    "        while current:\n",
    "            if current.data == data:\n",
    "                if current == self.tail:\n",
    "                    self.tail = current.next\n",
    "                else:\n",
    "                    prev.next = current.next\n",
    "                self.size -= 1\n",
    "                return\n",
    "            prev = current\n",
    "            current = current.next\n",
    "\n",
    "    def search (self, data):\n",
    "        for node in self.iter():\n",
    "            if (data == node):\n",
    "                return True\n",
    "        return False\n",
    "    \n",
    "    def clear(self):\n",
    "        self.tail = None\n",
    "        self.head = None\n"
   ]
  },
  {
   "cell_type": "code",
   "execution_count": 45,
   "metadata": {},
   "outputs": [],
   "source": [
    "words = SingleLinkedClass()\n",
    "words.append (\"egg\")\n",
    "words.append(\"ham\")\n",
    "words.append (\"jam\")"
   ]
  },
  {
   "cell_type": "code",
   "execution_count": 46,
   "metadata": {},
   "outputs": [
    {
     "name": "stdout",
     "output_type": "stream",
     "text": [
      "3\n",
      "egg\n",
      "ham\n",
      "jam\n"
     ]
    }
   ],
   "source": [
    "current= words.tail\n",
    "print (words.size)\n",
    "while current: \n",
    "    print (current.data)\n",
    "    current = current.next"
   ]
  },
  {
   "cell_type": "code",
   "execution_count": 47,
   "metadata": {},
   "outputs": [
    {
     "name": "stdout",
     "output_type": "stream",
     "text": [
      "egg\n",
      "ham\n",
      "jam\n"
     ]
    }
   ],
   "source": [
    "for word in words.iter():\n",
    "    print (word)"
   ]
  },
  {
   "cell_type": "code",
   "execution_count": 48,
   "metadata": {},
   "outputs": [
    {
     "name": "stdout",
     "output_type": "stream",
     "text": [
      "egg\n",
      "jam\n"
     ]
    }
   ],
   "source": [
    "words.delete(\"ham\")\n",
    "\n",
    "for word in words.iter():\n",
    "    print (word)"
   ]
  },
  {
   "cell_type": "code",
   "execution_count": 49,
   "metadata": {},
   "outputs": [
    {
     "name": "stdout",
     "output_type": "stream",
     "text": [
      "True\n",
      "False\n"
     ]
    }
   ],
   "source": [
    "print (words.search(\"egg\"))\n",
    "print (words.search(\"banana\"))"
   ]
  },
  {
   "cell_type": "markdown",
   "metadata": {},
   "source": [
    "## Double Linked List"
   ]
  },
  {
   "cell_type": "code",
   "execution_count": 50,
   "metadata": {},
   "outputs": [],
   "source": [
    "class Node ():\n",
    "    def __init__ (self, data = None, next= None, prev = None):\n",
    "        self.data = data\n",
    "        self.next = next\n",
    "        self.prev = prev"
   ]
  },
  {
   "cell_type": "code",
   "execution_count": 69,
   "metadata": {},
   "outputs": [],
   "source": [
    "class DoubleLinkedList ():\n",
    "    def __init__ (self):\n",
    "        self.head = None\n",
    "        self.tail = None\n",
    "        self.count = 0\n",
    "    def append (self, data):\n",
    "        newNode = Node(data, None, None)\n",
    "        if self.head == None:\n",
    "            self.head = newNode\n",
    "            self.tail = self.head\n",
    "        else:\n",
    "            newNode.prev = self.tail\n",
    "            self.tail.next = newNode\n",
    "            self.tail = newNode\n",
    "            self.count += 1\n",
    "    def delete (self, data):\n",
    "        ''' Delete a node from the list '''\n",
    "        current = self.head\n",
    "        nodeDeleted = False\n",
    "        if current is None:\n",
    "            '''Item to be deleted is not found in the list due to the list is empty'''\n",
    "            nodeDeleted = False\n",
    "        elif current.data == data: \n",
    "            ''' Item is found in the list and corresponds to the HEAD element'''\n",
    "            self.head = current.next\n",
    "            self.head.prev = None\n",
    "            nodeDeleted = True\n",
    "        elif self.tail.data == data: \n",
    "            ''' Item to be deleted corresponds to the TAIL element'''\n",
    "            self.tail = self.tail.prev\n",
    "            self.tail.next = None\n",
    "            nodeDeleted = True\n",
    "        else: \n",
    "            '''The element to be removed is in the middle of the list'''\n",
    "            while current: \n",
    "                if current.data == data:\n",
    "                    current.prev.next = current.next\n",
    "                    current.next.prev = current.prev\n",
    "                    nodeDeleted = True\n",
    "                current = current.next\n",
    "        if nodeDeleted:\n",
    "            self.count -= 1\n",
    "    def size (self):\n",
    "        return self.count\n",
    "    \n",
    "    def iter (self):\n",
    "        current = self.head\n",
    "        while current:\n",
    "            val = current.data\n",
    "            current = current.next\n",
    "            yield val\n",
    "\n",
    "    def contain (self, data):\n",
    "        ''' Search a data into the linked list '''\n",
    "        for nodeData in self.iter():\n",
    "            if data == nodeData:\n",
    "                return True\n",
    "        return False\n",
    "    \n",
    "    def clear (self):\n",
    "        self.tail = None\n",
    "        self.head = None\n",
    "        self.count = 0\n",
    "\n"
   ]
  },
  {
   "cell_type": "code",
   "execution_count": 72,
   "metadata": {},
   "outputs": [
    {
     "name": "stdout",
     "output_type": "stream",
     "text": [
      "3\n",
      "True\n",
      "False\n",
      "2\n"
     ]
    }
   ],
   "source": [
    "doubleList = DoubleLinkedList()\n",
    "doubleList.append(\"egg\")\n",
    "doubleList.append(\"Bread\")\n",
    "doubleList.append(\"Banana\")\n",
    "doubleList.append(\"Lion\")\n",
    "\n",
    "print (doubleList.size())\n",
    "\n",
    "print (doubleList.contain(\"Bread\"))\n",
    "print (doubleList.contain(\"Head\"))\n",
    "\n",
    "doubleList.delete(\"Bread\")\n",
    "\n",
    "print (doubleList.size())\n"
   ]
  },
  {
   "cell_type": "markdown",
   "metadata": {},
   "source": [
    "## Circular List"
   ]
  },
  {
   "cell_type": "code",
   "execution_count": 77,
   "metadata": {},
   "outputs": [],
   "source": [
    "class CircularList (SingleLinkedClass):\n",
    "    def append (self, data):\n",
    "        node = Node(data)\n",
    "        if self.head: \n",
    "            self.head.next = node\n",
    "            self.head = node\n",
    "        else:\n",
    "            self.head = node\n",
    "            self.tail = node\n",
    "        self.head.next = self.tail\n",
    "        self.size += 1\n",
    "\n",
    "    def delete (self, data):\n",
    "        current = self.tail\n",
    "        prev = self.tail\n",
    "        while current:\n",
    "            if current.data == data or prev != self.head:\n",
    "                if current == self.tail:\n",
    "                    self.tail = current.next\n",
    "                    self.head.next = self.tail\n",
    "                else:\n",
    "                    prev.next = current.next\n",
    "                self.size -= 1\n",
    "                return\n",
    "            prev = current\n",
    "            current = current.next\n"
   ]
  },
  {
   "cell_type": "code",
   "execution_count": 76,
   "metadata": {},
   "outputs": [],
   "source": [
    "circularList = CircularList()\n",
    "circularList.append(\"soap\")\n",
    "circularList.append(\"banana\")\n",
    "circularList.append(\"chocolate\")"
   ]
  }
 ],
 "metadata": {
  "kernelspec": {
   "display_name": "Python 3.10.7 ('.venv': poetry)",
   "language": "python",
   "name": "python3"
  },
  "language_info": {
   "codemirror_mode": {
    "name": "ipython",
    "version": 3
   },
   "file_extension": ".py",
   "mimetype": "text/x-python",
   "name": "python",
   "nbconvert_exporter": "python",
   "pygments_lexer": "ipython3",
   "version": "3.10.7"
  },
  "orig_nbformat": 4,
  "vscode": {
   "interpreter": {
    "hash": "e15455894e47da1e30c885127281fed88668cbeb5e4029456e2a9b134451d891"
   }
  }
 },
 "nbformat": 4,
 "nbformat_minor": 2
}
