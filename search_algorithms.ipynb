{
 "cells": [
  {
   "cell_type": "markdown",
   "metadata": {},
   "source": [
    "# Searching Algorithms"
   ]
  },
  {
   "cell_type": "markdown",
   "metadata": {},
   "source": [
    "## Linear Search"
   ]
  },
  {
   "cell_type": "code",
   "execution_count": 2,
   "metadata": {},
   "outputs": [],
   "source": [
    "def search (unordered_list, term) -> int:\n",
    "    unordered_list_size = len (unordered_list)\n",
    "    for i in range (unordered_list_size):\n",
    "        if term == unordered_list[i]:\n",
    "            return i\n",
    "    return None"
   ]
  },
  {
   "cell_type": "code",
   "execution_count": 11,
   "metadata": {},
   "outputs": [
    {
     "name": "stdout",
     "output_type": "stream",
     "text": [
      "3\n",
      "None\n"
     ]
    }
   ],
   "source": [
    "list = [5, 8, 60, 55, 20]\n",
    "print (search(list, 55))\n",
    "print (search(list, 45))"
   ]
  },
  {
   "cell_type": "markdown",
   "metadata": {},
   "source": [
    "## Ordered Linear Search"
   ]
  },
  {
   "cell_type": "code",
   "execution_count": 5,
   "metadata": {},
   "outputs": [],
   "source": [
    "def search_ordered (ordered_list, term)-> int: \n",
    "    ordered_list_size = len (ordered_list)\n",
    "    for i in range (ordered_list):\n",
    "        if term == ordered_list[i]:\n",
    "            return i\n",
    "        elif ordered_list[i] > term:\n",
    "            return None\n",
    "    return None"
   ]
  },
  {
   "cell_type": "code",
   "execution_count": 10,
   "metadata": {},
   "outputs": [
    {
     "name": "stdout",
     "output_type": "stream",
     "text": [
      "3\n",
      "None\n"
     ]
    }
   ],
   "source": [
    "list = [5, 8, 60, 55, 20]\n",
    "oList = list.copy()\n",
    "oList.sort()\n",
    "print (search(oList, 55))\n",
    "print (search(oList, 45))"
   ]
  },
  {
   "cell_type": "markdown",
   "metadata": {},
   "source": [
    "## Binary Search"
   ]
  },
  {
   "cell_type": "code",
   "execution_count": 19,
   "metadata": {},
   "outputs": [],
   "source": [
    "def binarySearch (ordered_list, term)-> int:\n",
    "    size_list = len (ordered_list) - 1\n",
    "    index_first_element = 0\n",
    "    index_last_element = size_list\n",
    "\n",
    "    while index_first_element <= index_last_element:\n",
    "        mid_point = (index_first_element + index_last_element) //2\n",
    "        \n",
    "        if ordered_list [mid_point] == term: \n",
    "            return mid_point\n",
    "        \n",
    "        if term > ordered_list [mid_point]:\n",
    "            index_first_element = mid_point + 1 \n",
    "        else: \n",
    "            index_last_element = mid_point - 1 \n",
    "        \n",
    "        if index_first_element > index_last_element:\n",
    "            return None\n",
    "\n",
    "    return None\n"
   ]
  },
  {
   "cell_type": "code",
   "execution_count": 20,
   "metadata": {},
   "outputs": [
    {
     "name": "stdout",
     "output_type": "stream",
     "text": [
      "3\n",
      "None\n"
     ]
    }
   ],
   "source": [
    "print (binarySearch(oList, 55))\n",
    "print (binarySearch(oList, 45))"
   ]
  },
  {
   "cell_type": "code",
   "execution_count": 21,
   "metadata": {},
   "outputs": [],
   "source": [
    "def binarySearchRecursive (orderedList, term, index_first_element, index_last_element) -> int:\n",
    "    if (index_first_element > index_last_element): \n",
    "\n",
    "        mid_point = (index_first_element + index_last_element) //2\n",
    "\n",
    "        if (orderedList [mid_point] == term):\n",
    "            return mid_point\n",
    "        elif orderedList [mid_point] > term:\n",
    "            return binarySearch (orderedList, index_first_element, mid_point -1, term)\n",
    "        else:\n",
    "            return binarySearch (orderedList, mid_point +1, index_last_element, term)\n",
    "    else:\n",
    "        return None\n",
    "    "
   ]
  },
  {
   "cell_type": "code",
   "execution_count": 22,
   "metadata": {},
   "outputs": [
    {
     "name": "stdout",
     "output_type": "stream",
     "text": [
      "3\n",
      "None\n"
     ]
    }
   ],
   "source": [
    "print (binarySearch(oList, 55))\n",
    "print (binarySearch(oList, 45))"
   ]
  }
 ],
 "metadata": {
  "kernelspec": {
   "display_name": "Python 3.10.8 64-bit",
   "language": "python",
   "name": "python3"
  },
  "language_info": {
   "codemirror_mode": {
    "name": "ipython",
    "version": 3
   },
   "file_extension": ".py",
   "mimetype": "text/x-python",
   "name": "python",
   "nbconvert_exporter": "python",
   "pygments_lexer": "ipython3",
   "version": "3.10.8"
  },
  "orig_nbformat": 4,
  "vscode": {
   "interpreter": {
    "hash": "b0fa6594d8f4cbf19f97940f81e996739fb7646882a419484c72d19e05852a7e"
   }
  }
 },
 "nbformat": 4,
 "nbformat_minor": 2
}
