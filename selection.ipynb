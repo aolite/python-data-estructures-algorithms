{
 "cells": [
  {
   "cell_type": "markdown",
   "metadata": {},
   "source": [
    "# Selection"
   ]
  },
  {
   "cell_type": "markdown",
   "metadata": {},
   "source": [
    "## Quick Selection Algorithm"
   ]
  },
  {
   "cell_type": "code",
   "execution_count": 1,
   "metadata": {},
   "outputs": [],
   "source": [
    "def partition (unsorted_list, low, high):\n",
    "\n",
    "    pivot = unsorted_list [high]\n",
    "\n",
    "    i = low - 1\n",
    "\n",
    "    for j in range (low, high):\n",
    "        if unsorted_list [j] <= pivot:\n",
    "            i += 1\n",
    "            (unsorted_list[i], unsorted_list[j]) = (unsorted_list[j], unsorted_list[i])\n",
    "\n",
    "    (unsorted_list[i + 1], unsorted_list[high]) = (unsorted_list[high], unsorted_list[i + 1])\n",
    "\n",
    "    return i+1"
   ]
  },
  {
   "cell_type": "code",
   "execution_count": 9,
   "metadata": {},
   "outputs": [],
   "source": [
    "def quicksort (unsorted_list,low, high):\n",
    "    if low < high:\n",
    "        pi = partition(unsorted_list, low, high)\n",
    "\n",
    "        quicksort(unsorted_list, low, pi - 1)\n",
    "        quicksort(unsorted_list, pi + 1, high)"
   ]
  },
  {
   "cell_type": "code",
   "execution_count": 10,
   "metadata": {},
   "outputs": [
    {
     "name": "stdout",
     "output_type": "stream",
     "text": [
      "The value is: 23\n"
     ]
    }
   ],
   "source": [
    "list = [45, 23, 87, 12, 72, 4, 54, 32, 52]\n",
    "value = quickSelection(list, 0, len(list)-1, 2)\n",
    "print (f\"The value is: {value}\")"
   ]
  },
  {
   "cell_type": "markdown",
   "metadata": {},
   "source": [
    "## Deterministic Seletion"
   ]
  },
  {
   "cell_type": "code",
   "execution_count": 5,
   "metadata": {},
   "outputs": [],
   "source": [
    "def median_of_medians (array):\n",
    "    sublists = [array [j:j+5] for j in range (0, len (array), 5)]\n",
    "    medians = []\n",
    "    for sublist in sublists:\n",
    "        medians.append (sorted(sublist)[len(sublist)//2])\n",
    "    \n",
    "    if (len(medians) <= 5):\n",
    "        return sorted (medians)[len(medians)//2]\n",
    "    \n",
    "    return median_of_medians(medians)"
   ]
  },
  {
   "cell_type": "code",
   "execution_count": 6,
   "metadata": {},
   "outputs": [],
   "source": [
    "def get_index_of_nearest_median (array, first, last, nearest_median):\n",
    "    \n",
    "    if first == last:\n",
    "        return first\n",
    "    \n",
    "    return first + array [first: last].index(nearest_median)"
   ]
  },
  {
   "cell_type": "code",
   "execution_count": 16,
   "metadata": {},
   "outputs": [],
   "source": [
    "def deterministic_partition (array, first, last):\n",
    "    if first == last:\n",
    "        return first\n",
    "    \n",
    "    nearest_median = median_of_medians (array[first:last])\n",
    "    index_nearest_median = get_index_of_nearest_median (array, first, last, nearest_median)\n",
    "    i = 0\n",
    "    \n",
    "    while i <= last:\n",
    "        if array[i] == nearest_median:\n",
    "            i += 1\n",
    "\n",
    "        elif array[i] < nearest_median:\n",
    "            array[first], array[i] = array[i], array[first]\n",
    "            first += 1\n",
    "            i += 1\n",
    "        else:\n",
    "            array[last], array[i] = array[i], array[last]\n",
    "            last -= 1\n",
    "\n",
    "    return first"
   ]
  },
  {
   "cell_type": "code",
   "execution_count": 17,
   "metadata": {},
   "outputs": [],
   "source": [
    "def deterministicSelection (array, left, right, k):\n",
    "    \n",
    "    split = deterministic_partition(array, left, right)\n",
    "\n",
    "    if split == k:\n",
    "        return array [split]\n",
    "    \n",
    "    if split < k:\n",
    "        return deterministicSelection (array, split + 1, right, k)\n",
    "    \n",
    "    return deterministicSelection (array, left, right-1, k)\n"
   ]
  },
  {
   "cell_type": "code",
   "execution_count": 18,
   "metadata": {},
   "outputs": [
    {
     "name": "stdout",
     "output_type": "stream",
     "text": [
      "The value is: 23\n"
     ]
    }
   ],
   "source": [
    "list = [45, 23, 87, 12, 72, 4, 54, 32, 52]\n",
    "value = deterministicSelection(list, 0, len(list)-1, 2)\n",
    "print (f\"The value is: {value}\")"
   ]
  }
 ],
 "metadata": {
  "kernelspec": {
   "display_name": "Python 3.10.8 64-bit",
   "language": "python",
   "name": "python3"
  },
  "language_info": {
   "codemirror_mode": {
    "name": "ipython",
    "version": 3
   },
   "file_extension": ".py",
   "mimetype": "text/x-python",
   "name": "python",
   "nbconvert_exporter": "python",
   "pygments_lexer": "ipython3",
   "version": "3.10.8"
  },
  "orig_nbformat": 4,
  "vscode": {
   "interpreter": {
    "hash": "b0fa6594d8f4cbf19f97940f81e996739fb7646882a419484c72d19e05852a7e"
   }
  }
 },
 "nbformat": 4,
 "nbformat_minor": 2
}
