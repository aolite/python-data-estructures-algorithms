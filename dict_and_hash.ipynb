{
 "cells": [
  {
   "cell_type": "markdown",
   "metadata": {},
   "source": [
    "# Dictionaries and Hashes"
   ]
  },
  {
   "cell_type": "markdown",
   "metadata": {},
   "source": [
    "## Hashing\n",
    "\n",
    "An intial example of a hash function is to convert strings into integers:"
   ]
  },
  {
   "cell_type": "code",
   "execution_count": 1,
   "metadata": {},
   "outputs": [
    {
     "data": {
      "text/plain": [
       "1116"
      ]
     },
     "execution_count": 1,
     "metadata": {},
     "output_type": "execute_result"
    }
   ],
   "source": [
    "sum (map(ord, 'hello world'))"
   ]
  },
  {
   "cell_type": "markdown",
   "metadata": {},
   "source": [
    "Now, we will elaborate a simple HASH function:"
   ]
  },
  {
   "cell_type": "code",
   "execution_count": 4,
   "metadata": {},
   "outputs": [],
   "source": [
    "def myHash (str):\n",
    "    mult = 1\n",
    "    hv = 0\n",
    "    for ch in str:\n",
    "        hv += mult * ord(ch)\n",
    "        mult+= 1\n",
    "\n",
    "    return hv"
   ]
  },
  {
   "cell_type": "code",
   "execution_count": 5,
   "metadata": {},
   "outputs": [
    {
     "name": "stdout",
     "output_type": "stream",
     "text": [
      "hello word:5556 \n",
      "world hello:6616 \n",
      "gello xorld:6742 \n"
     ]
    }
   ],
   "source": [
    "for item in ('hello word', 'world hello', 'gello xorld'):\n",
    "    print (f'{item}:{myHash(item)} ')"
   ]
  },
  {
   "cell_type": "markdown",
   "metadata": {},
   "source": [
    "## Hash Tables\n",
    "\n",
    "Based on the HASH variables, the hash table map value with a hash index:"
   ]
  },
  {
   "cell_type": "code",
   "execution_count": 10,
   "metadata": {},
   "outputs": [],
   "source": [
    "class HashItem ():\n",
    "    def __init__(self, key, value) -> None:\n",
    "        self.key = key\n",
    "        self.value = value\n",
    "\n",
    "class HashTable ():\n",
    "    def __init__(self) -> None:\n",
    "        self.size = 256\n",
    "        self.slots = [None for i in range (self.size)]\n",
    "        self.count = 0\n",
    "\n",
    "    def _hash(self, key):\n",
    "        mult = 1\n",
    "        hv = 0\n",
    "        for ch in key:\n",
    "            hv += mult * ord(ch)\n",
    "            mult += 1\n",
    "        return hv % self.size\n",
    "    \n",
    "    def __setitem__(self, key, value):\n",
    "        self.put(key, value)\n",
    "    \n",
    "    def __getitem__(self, key):\n",
    "        return self.get(key)\n",
    "    \n",
    "    def put (self, key, value):\n",
    "        item = HashItem (key, value)\n",
    "        h = self._hash(key)\n",
    "\n",
    "        while self.slots[h] is not None:\n",
    "            if (self.slots[h].key == key):\n",
    "                break\n",
    "            h = (h+1) % self.size\n",
    "        \n",
    "        if self.slots[h] is None:\n",
    "            self.count +=1\n",
    "        \n",
    "        self.slots[h] = item\n",
    "    \n",
    "    def get (self, key):\n",
    "        h = self._hash(key)\n",
    "        while self.slots [h] is not None:\n",
    "            if self.slots[h].key == key:\n",
    "                return self.slots[h].value\n",
    "            h = (h+1) % self.size\n",
    "        \n",
    "        return None\n"
   ]
  },
  {
   "cell_type": "code",
   "execution_count": 8,
   "metadata": {},
   "outputs": [
    {
     "name": "stdout",
     "output_type": "stream",
     "text": [
      "eggs\n",
      "ham\n",
      "spam\n",
      "None\n",
      "do not\n",
      "collide\n"
     ]
    }
   ],
   "source": [
    "ht = HashTable()\n",
    "\n",
    "ht.put(\"good\", \"eggs\")\n",
    "ht.put(\"better\", \"ham\")\n",
    "ht.put(\"best\", \"spam\")\n",
    "ht.put(\"ad\", \"do not\")\n",
    "ht.put(\"ga\", \"collide\")\n",
    "\n",
    "for key in (\"good\", \"better\", \"best\", \"worst\", \"ad\", \"ga\"):\n",
    "    v = ht.get(key)\n",
    "    print (v)\n"
   ]
  },
  {
   "cell_type": "code",
   "execution_count": 12,
   "metadata": {},
   "outputs": [
    {
     "name": "stdout",
     "output_type": "stream",
     "text": [
      "eggs\n",
      "ham\n",
      "spam\n",
      "None\n",
      "do not\n",
      "collide\n",
      "The numner of elements is: 5\n"
     ]
    }
   ],
   "source": [
    "ht2 = HashTable()\n",
    "ht2[\"good\"] = \"eggs\"\n",
    "ht2[\"better\"] = \"ham\"\n",
    "ht2[\"best\"] = \"spam\"\n",
    "ht2[\"ad\"] = \"do not\"\n",
    "ht2[\"ga\"] = \"collide\"\n",
    "\n",
    "for key in (\"good\", \"better\", \"best\", \"worst\", \"ad\", \"ga\"):\n",
    "    v = ht2[key]\n",
    "    print (v)\n",
    "\n",
    "print (f'The numner of elements is: {ht2.count}')"
   ]
  }
 ],
 "metadata": {
  "kernelspec": {
   "display_name": "Python 3.9.6 64-bit",
   "language": "python",
   "name": "python3"
  },
  "language_info": {
   "codemirror_mode": {
    "name": "ipython",
    "version": 3
   },
   "file_extension": ".py",
   "mimetype": "text/x-python",
   "name": "python",
   "nbconvert_exporter": "python",
   "pygments_lexer": "ipython3",
   "version": "3.9.6"
  },
  "orig_nbformat": 4,
  "vscode": {
   "interpreter": {
    "hash": "31f2aee4e71d21fbe5cf8b01ff0e069b9275f58929596ceb00d14d90e3e16cd6"
   }
  }
 },
 "nbformat": 4,
 "nbformat_minor": 2
}
