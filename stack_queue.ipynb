{
 "cells": [
  {
   "cell_type": "markdown",
   "metadata": {},
   "source": [
    "# Staks and Queue"
   ]
  },
  {
   "cell_type": "markdown",
   "metadata": {},
   "source": [
    "## Stack"
   ]
  },
  {
   "cell_type": "code",
   "execution_count": 2,
   "metadata": {},
   "outputs": [],
   "source": [
    "class Node ():\n",
    "    def __init__ (self, data = None):\n",
    "        self.data = data\n",
    "        self.next = None"
   ]
  },
  {
   "cell_type": "code",
   "execution_count": 3,
   "metadata": {},
   "outputs": [],
   "source": [
    "class Stack ():\n",
    "    def __init__ (self):\n",
    "        self.top = None\n",
    "        self.size = 0\n",
    "    def push (self, data):\n",
    "        node = Node (data)\n",
    "        if self.top:\n",
    "            node.next = self.top\n",
    "            self.top = node\n",
    "        else:\n",
    "            self.top = node\n",
    "        self.size += 1\n",
    "    def pop (self):\n",
    "        if self.top: \n",
    "            data = self.top.data\n",
    "            self.size -= 1\n",
    "            if self.top.next: \n",
    "                self.top = self.top.next\n",
    "            else:\n",
    "                self.top = None\n",
    "            return data\n",
    "        else: \n",
    "            return None\n",
    "    def peek (self):\n",
    "        if self.top: \n",
    "            return self.top.data\n",
    "        else: \n",
    "            return None\n"
   ]
  },
  {
   "cell_type": "code",
   "execution_count": 15,
   "metadata": {},
   "outputs": [],
   "source": [
    "def checkBrackets (statement):\n",
    "    stack = Stack()\n",
    "    for ch in statement:\n",
    "        if ch in ('{', '(', '['):\n",
    "            stack.push(ch)\n",
    "        if ch in ('}', ')', ']'):\n",
    "            last = stack.pop()\n",
    "            if last == '{' and ch == '}':\n",
    "                continue\n",
    "            elif last == '[' and ch == ']':\n",
    "                continue\n",
    "            elif last == '(' and ch == ')':\n",
    "                continue\n",
    "            else: \n",
    "                return False\n",
    "\n",
    "    if stack.size >0:\n",
    "        return False\n",
    "    else: return True"
   ]
  },
  {
   "cell_type": "code",
   "execution_count": 16,
   "metadata": {},
   "outputs": [
    {
     "name": "stdout",
     "output_type": "stream",
     "text": [
      "{(foo)(bar)}[hello](((this)is)a)test: True\n",
      "{(foo)(bar)}[hello](((this)is)atest: False\n",
      "{(foo)(bar)}[hello](((this)is)a)test)): False\n"
     ]
    }
   ],
   "source": [
    "sl = (    \n",
    "    \"{(foo)(bar)}[hello](((this)is)a)test\",    \n",
    "    \"{(foo)(bar)}[hello](((this)is)atest\",    \n",
    "    \"{(foo)(bar)}[hello](((this)is)a)test))\" )\n",
    "\n",
    "for s in sl: \n",
    "    m = checkBrackets(s)\n",
    "    print (f'{s}: {m}')\n"
   ]
  },
  {
   "cell_type": "markdown",
   "metadata": {},
   "source": [
    "## Queue"
   ]
  },
  {
   "cell_type": "markdown",
   "metadata": {},
   "source": [
    "### List based Queue"
   ]
  },
  {
   "cell_type": "code",
   "execution_count": 17,
   "metadata": {},
   "outputs": [],
   "source": [
    "class ListQueue (): \n",
    "    def __init__ (self):\n",
    "        self.items = []\n",
    "        self.size = 0\n",
    "    \n",
    "    def enqueue (self, data):\n",
    "        self.items.insert(0, data)\n",
    "        self.size += 1\n",
    "    \n",
    "    def dequeue (self):\n",
    "        data = self.items.pop()\n",
    "        self.size -= 1\n",
    "        return data"
   ]
  },
  {
   "cell_type": "code",
   "execution_count": 18,
   "metadata": {},
   "outputs": [
    {
     "name": "stdout",
     "output_type": "stream",
     "text": [
      "track 1\n"
     ]
    }
   ],
   "source": [
    "myQueue = ListQueue()\n",
    "myQueue.enqueue(\"track 1\")\n",
    "myQueue.enqueue(\"track 2\")\n",
    "myQueue.enqueue(\"track 3\")\n",
    "\n",
    "print (myQueue.dequeue())\n"
   ]
  },
  {
   "cell_type": "markdown",
   "metadata": {},
   "source": [
    "### Stack based Queue"
   ]
  },
  {
   "cell_type": "code",
   "execution_count": 21,
   "metadata": {},
   "outputs": [],
   "source": [
    "class StackQueue():\n",
    "    def __init__ (self):\n",
    "        self.inbound_stack = []\n",
    "        self.outbound_stack = []\n",
    "    \n",
    "    def enqueue (self, data):\n",
    "        self.inbound_stack.append (data)\n",
    "    \n",
    "    def dequeue (self):\n",
    "        if not self.outbound_stack:\n",
    "            while self.inbound_stack:\n",
    "                self.outbound_stack.append (self.inbound_stack.pop())\n",
    "            \n",
    "            return self.outbound_stack.pop()"
   ]
  },
  {
   "cell_type": "code",
   "execution_count": 23,
   "metadata": {},
   "outputs": [
    {
     "name": "stdout",
     "output_type": "stream",
     "text": [
      "Inbound Stack: [5, 6, 7]\n",
      "------\n",
      "inbound stack: []\n",
      " Outbound stack: [7, 6]\n",
      "------\n",
      "inbound stack: [8]\n",
      " Outbound stack: [7, 6]\n",
      "------\n"
     ]
    }
   ],
   "source": [
    "queue = StackQueue()\n",
    "\n",
    "queue.enqueue(5)\n",
    "queue.enqueue(6)\n",
    "queue.enqueue(7)\n",
    "\n",
    "print (f'Inbound Stack: {queue.inbound_stack}')\n",
    "\n",
    "print ('------')\n",
    "\n",
    "queue.dequeue();\n",
    "\n",
    "print (f'inbound stack: {queue.inbound_stack}')\n",
    "print (f' Outbound stack: {queue.outbound_stack}')\n",
    "\n",
    "print ('------')\n",
    "\n",
    "queue.dequeue();\n",
    "queue.enqueue(8);\n",
    "\n",
    "print (f'inbound stack: {queue.inbound_stack}')\n",
    "print (f' Outbound stack: {queue.outbound_stack}')\n",
    "\n",
    "print ('------')\n"
   ]
  },
  {
   "cell_type": "markdown",
   "metadata": {},
   "source": [
    "### Node-based Queue"
   ]
  },
  {
   "cell_type": "code",
   "execution_count": 24,
   "metadata": {},
   "outputs": [],
   "source": [
    "class Node (object):\n",
    "    def __init__ (self, data = None, next = None, prev = None):\n",
    "        self.data = data\n",
    "        self.next = next\n",
    "        self.prev = prev"
   ]
  },
  {
   "cell_type": "code",
   "execution_count": 25,
   "metadata": {},
   "outputs": [],
   "source": [
    "class NodeQueue (object):\n",
    "    def __init__ (self):\n",
    "        self.head = None\n",
    "        self.tail = None\n",
    "        self.count = 0\n",
    "    \n",
    "    def enqueue (self, data): \n",
    "        node = Node (data)\n",
    "        if self.head == None:\n",
    "            self.head = node\n",
    "            self.tail = self.head\n",
    "        else:\n",
    "            node.prev = self.tail\n",
    "            self.tail.next = node\n",
    "            self.tail = node\n",
    "        \n",
    "        self.count += 1\n",
    "    \n",
    "    def dequeue (self):\n",
    "        current = self.head\n",
    "        if self.count == 1:\n",
    "            self.count -= 1\n",
    "            self.head = None\n",
    "            self.tail = None\n",
    "        elif self.count > 1:\n",
    "            self.head = self.head.next\n",
    "            self.head.prev = None\n",
    "            self.count -= 1\n",
    "        \n",
    "        return current\n",
    "\n"
   ]
  },
  {
   "cell_type": "code",
   "execution_count": 27,
   "metadata": {},
   "outputs": [],
   "source": [
    "from random import randint\n",
    "\n",
    "class Track:\n",
    "\n",
    "    def __init__ (self, title = None):\n",
    "        self.title = title\n",
    "        self.length = randint(5, 10)"
   ]
  },
  {
   "cell_type": "code",
   "execution_count": 28,
   "metadata": {},
   "outputs": [
    {
     "name": "stdout",
     "output_type": "stream",
     "text": [
      "MEDIA PLAYER APPLICATION\n",
      "6\n",
      "10\n"
     ]
    }
   ],
   "source": [
    "print ('MEDIA PLAYER APPLICATION')\n",
    "\n",
    "track1 = Track(\"white whistle\")\n",
    "track2 = Track (\"butter butter\")\n",
    "\n",
    "print (track1.length)\n",
    "print (track2.length)"
   ]
  },
  {
   "cell_type": "code",
   "execution_count": 37,
   "metadata": {},
   "outputs": [],
   "source": [
    "from queue import Queue\n",
    "import time\n",
    "\n",
    "class MediaPlayerQueue (NodeQueue):\n",
    "    \n",
    "    def __init__(self):\n",
    "        super (MediaPlayerQueue, self).__init__()\n",
    "    \n",
    "    def addTrack(self, track):\n",
    "        self.enqueue(track)\n",
    "    \n",
    "    def play (self):\n",
    "        while self.count > 0:\n",
    "            current_track_node = self.dequeue()\n",
    "            print (f'Now we are playing: {current_track_node.data.title}')\n",
    "            time.sleep(current_track_node.data.length)"
   ]
  },
  {
   "cell_type": "code",
   "execution_count": 38,
   "metadata": {},
   "outputs": [
    {
     "name": "stdout",
     "output_type": "stream",
     "text": [
      "7\n",
      "10\n",
      "Now we are playing: white whistle\n",
      "Now we are playing: butter butter\n",
      "Now we are playing: Oh black star\n",
      "Now we are playing: Watch that chicken\n",
      "Now we are playing: Don't go\n"
     ]
    }
   ],
   "source": [
    "track1 = Track(\"white whistle\") \n",
    "track2 = Track(\"butter butter\") \n",
    "track3 = Track(\"Oh black star\") \n",
    "track4 = Track(\"Watch that chicken\") \n",
    "track5 = Track(\"Don't go\")\n",
    "\n",
    "\n",
    "print (track1.length)\n",
    "print (track2.length)\n",
    "\n",
    "media_player = MediaPlayerQueue()\n",
    "media_player.addTrack(track1)\n",
    "media_player.addTrack(track2)\n",
    "media_player.addTrack(track3)\n",
    "media_player.addTrack(track4)\n",
    "media_player.addTrack(track5)\n",
    "\n",
    "media_player.play()"
   ]
  }
 ],
 "metadata": {
  "kernelspec": {
   "display_name": "Python 3.10.7 ('.venv': poetry)",
   "language": "python",
   "name": "python3"
  },
  "language_info": {
   "codemirror_mode": {
    "name": "ipython",
    "version": 3
   },
   "file_extension": ".py",
   "mimetype": "text/x-python",
   "name": "python",
   "nbconvert_exporter": "python",
   "pygments_lexer": "ipython3",
   "version": "3.10.7"
  },
  "orig_nbformat": 4,
  "vscode": {
   "interpreter": {
    "hash": "e15455894e47da1e30c885127281fed88668cbeb5e4029456e2a9b134451d891"
   }
  }
 },
 "nbformat": 4,
 "nbformat_minor": 2
}
