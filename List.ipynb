{
 "cells": [
  {
   "cell_type": "markdown",
   "metadata": {},
   "source": [
    "# Lists and Sequences"
   ]
  },
  {
   "cell_type": "markdown",
   "metadata": {},
   "source": [
    "## Lists"
   ]
  },
  {
   "cell_type": "code",
   "execution_count": 2,
   "metadata": {},
   "outputs": [
    {
     "data": {
      "text/plain": [
       "[1, 2, 3, 4, 10]"
      ]
     },
     "execution_count": 2,
     "metadata": {},
     "output_type": "execute_result"
    }
   ],
   "source": [
    "l = list ()\n",
    "list1 = [1,2,3, 4]\n",
    "list1.append (10)\n",
    "list1"
   ]
  },
  {
   "cell_type": "code",
   "execution_count": 3,
   "metadata": {},
   "outputs": [
    {
     "data": {
      "text/plain": [
       "[1, 2, 3, 4, 10, 1, 2, 3, 4, 10]"
      ]
     },
     "execution_count": 3,
     "metadata": {},
     "output_type": "execute_result"
    }
   ],
   "source": [
    "list2 = list1*2\n",
    "list2"
   ]
  },
  {
   "cell_type": "code",
   "execution_count": 4,
   "metadata": {},
   "outputs": [
    {
     "data": {
      "text/plain": [
       "1"
      ]
     },
     "execution_count": 4,
     "metadata": {},
     "output_type": "execute_result"
    }
   ],
   "source": [
    "min(list1)"
   ]
  },
  {
   "cell_type": "code",
   "execution_count": 5,
   "metadata": {},
   "outputs": [
    {
     "data": {
      "text/plain": [
       "10"
      ]
     },
     "execution_count": 5,
     "metadata": {},
     "output_type": "execute_result"
    }
   ],
   "source": [
    "max (list1)"
   ]
  },
  {
   "cell_type": "code",
   "execution_count": 7,
   "metadata": {},
   "outputs": [
    {
     "data": {
      "text/plain": [
       "[1, 2, 10, 10, 3, 4, 10]"
      ]
     },
     "execution_count": 7,
     "metadata": {},
     "output_type": "execute_result"
    }
   ],
   "source": [
    "list1.insert(2,10)\n",
    "list1"
   ]
  },
  {
   "cell_type": "code",
   "execution_count": 10,
   "metadata": {},
   "outputs": [
    {
     "data": {
      "text/plain": [
       "[1, 2, 10, 10, 3, 4, 10]"
      ]
     },
     "execution_count": 10,
     "metadata": {},
     "output_type": "execute_result"
    }
   ],
   "source": [
    "list.reverse\n",
    "list1"
   ]
  },
  {
   "cell_type": "code",
   "execution_count": 12,
   "metadata": {},
   "outputs": [
    {
     "data": {
      "text/plain": [
       "[1, 2, 10, 10, 3, 4, 10, 11, 12, 11, 12]"
      ]
     },
     "execution_count": 12,
     "metadata": {},
     "output_type": "execute_result"
    }
   ],
   "source": [
    "list2= [11, 12]\n",
    "list1.extend(list2)\n",
    "list1"
   ]
  },
  {
   "cell_type": "code",
   "execution_count": 13,
   "metadata": {},
   "outputs": [
    {
     "data": {
      "text/plain": [
       "86"
      ]
     },
     "execution_count": 13,
     "metadata": {},
     "output_type": "execute_result"
    }
   ],
   "source": [
    "sum(list1)"
   ]
  },
  {
   "cell_type": "code",
   "execution_count": 14,
   "metadata": {},
   "outputs": [
    {
     "data": {
      "text/plain": [
       "11"
      ]
     },
     "execution_count": 14,
     "metadata": {},
     "output_type": "execute_result"
    }
   ],
   "source": [
    "len(list1)"
   ]
  },
  {
   "cell_type": "code",
   "execution_count": 16,
   "metadata": {},
   "outputs": [
    {
     "data": {
      "text/plain": [
       "[1, 2, 3, 4, 10, 10, 10, 11, 11, 12, 12]"
      ]
     },
     "execution_count": 16,
     "metadata": {},
     "output_type": "execute_result"
    }
   ],
   "source": [
    "list1.sort()\n",
    "list1"
   ]
  },
  {
   "cell_type": "code",
   "execution_count": 17,
   "metadata": {},
   "outputs": [
    {
     "data": {
      "text/plain": [
       "[1, 2, 3, 4, 10, 10, 10, 11, 11, 12]"
      ]
     },
     "execution_count": 17,
     "metadata": {},
     "output_type": "execute_result"
    }
   ],
   "source": [
    "list1.remove(12)\n",
    "list1"
   ]
  },
  {
   "cell_type": "markdown",
   "metadata": {},
   "source": [
    "## Tuples"
   ]
  },
  {
   "cell_type": "code",
   "execution_count": 18,
   "metadata": {},
   "outputs": [
    {
     "data": {
      "text/plain": [
       "tuple"
      ]
     },
     "execution_count": 18,
     "metadata": {},
     "output_type": "execute_result"
    }
   ],
   "source": [
    "t = tuple ()\n",
    "type (t)"
   ]
  },
  {
   "cell_type": "code",
   "execution_count": 20,
   "metadata": {},
   "outputs": [
    {
     "data": {
      "text/plain": [
       "('a',)"
      ]
     },
     "execution_count": 20,
     "metadata": {},
     "output_type": "execute_result"
    }
   ],
   "source": [
    "t = ('a',)\n",
    "t"
   ]
  },
  {
   "cell_type": "code",
   "execution_count": 21,
   "metadata": {},
   "outputs": [
    {
     "name": "stdout",
     "output_type": "stream",
     "text": [
      "type is  <class 'tuple'>\n"
     ]
    }
   ],
   "source": [
    "print('type is ', type(t))"
   ]
  },
  {
   "cell_type": "code",
   "execution_count": 22,
   "metadata": {},
   "outputs": [],
   "source": [
    "tpl=('a','b','c')"
   ]
  },
  {
   "cell_type": "code",
   "execution_count": 23,
   "metadata": {},
   "outputs": [
    {
     "data": {
      "text/plain": [
       "tuple"
      ]
     },
     "execution_count": 23,
     "metadata": {},
     "output_type": "execute_result"
    }
   ],
   "source": [
    "tuple('sequence')\n",
    "tuple"
   ]
  },
  {
   "cell_type": "code",
   "execution_count": 24,
   "metadata": {},
   "outputs": [
    {
     "name": "stdout",
     "output_type": "stream",
     "text": [
      "a\n",
      "b\n",
      "c\n"
     ]
    }
   ],
   "source": [
    "x,y,z= tpl\n",
    "print (x)\n",
    "print (y)\n",
    "print (z)"
   ]
  },
  {
   "cell_type": "code",
   "execution_count": 25,
   "metadata": {},
   "outputs": [
    {
     "data": {
      "text/plain": [
       "True"
      ]
     },
     "execution_count": 25,
     "metadata": {},
     "output_type": "execute_result"
    }
   ],
   "source": [
    "'a' in tpl"
   ]
  },
  {
   "cell_type": "code",
   "execution_count": 26,
   "metadata": {},
   "outputs": [
    {
     "data": {
      "text/plain": [
       "False"
      ]
     },
     "execution_count": 26,
     "metadata": {},
     "output_type": "execute_result"
    }
   ],
   "source": [
    "'z' in tpl"
   ]
  },
  {
   "cell_type": "code",
   "execution_count": 29,
   "metadata": {},
   "outputs": [
    {
     "name": "stdout",
     "output_type": "stream",
     "text": [
      "the value of the tuple is 2\n"
     ]
    }
   ],
   "source": [
    "tupl = 1, 2,3,4,5\n",
    "print (f'the value of the tuple is {tupl[1]}')"
   ]
  },
  {
   "cell_type": "code",
   "execution_count": 31,
   "metadata": {},
   "outputs": [
    {
     "name": "stdout",
     "output_type": "stream",
     "text": [
      "tuple[1:3] is (2, 3)\n"
     ]
    }
   ],
   "source": [
    "print (f'tuple[1:3] is {tupl[1:3]}')"
   ]
  },
  {
   "cell_type": "code",
   "execution_count": 33,
   "metadata": {},
   "outputs": [
    {
     "name": "stdout",
     "output_type": "stream",
     "text": [
      "(1, 2, 3, 4, 5, 11, 12, 13)\n"
     ]
    }
   ],
   "source": [
    "tupl2 = (11, 12,13)\n",
    "tupl3 = tupl + tupl2\n",
    "print (tupl3)"
   ]
  },
  {
   "cell_type": "code",
   "execution_count": 34,
   "metadata": {},
   "outputs": [
    {
     "name": "stdout",
     "output_type": "stream",
     "text": [
      "(1, 2, 3, 4, 5, 1, 2, 3, 4, 5)\n",
      "True\n"
     ]
    }
   ],
   "source": [
    "print (tupl*2)\n",
    "print (5 in tupl)"
   ]
  },
  {
   "cell_type": "code",
   "execution_count": 35,
   "metadata": {},
   "outputs": [
    {
     "name": "stdout",
     "output_type": "stream",
     "text": [
      "El reverse indexing de una tupla es: 5\n",
      "La longitud de una tupla es: 5\n",
      "El valor máximo de una tupla es: 5\n",
      "El valor mínimo de una tupla es:1\n"
     ]
    }
   ],
   "source": [
    "print (f'El reverse indexing de una tupla es: {tupl[-1]}')\n",
    "print (f'La longitud de una tupla es: {len(tupl)}')\n",
    "print (f'El valor máximo de una tupla es: {max(tupl)}')\n",
    "print (f'El valor mínimo de una tupla es:{min(tupl)}')"
   ]
  },
  {
   "cell_type": "code",
   "execution_count": 36,
   "metadata": {},
   "outputs": [
    {
     "ename": "TypeError",
     "evalue": "'tuple' object does not support item assignment",
     "output_type": "error",
     "traceback": [
      "\u001b[0;31m---------------------------------------------------------------------------\u001b[0m",
      "\u001b[0;31mTypeError\u001b[0m                                 Traceback (most recent call last)",
      "Cell \u001b[0;32mIn [36], line 1\u001b[0m\n\u001b[0;32m----> 1\u001b[0m tupl[\u001b[39m1\u001b[39;49m] \u001b[39m=\u001b[39m \u001b[39m5\u001b[39m\n",
      "\u001b[0;31mTypeError\u001b[0m: 'tuple' object does not support item assignment"
     ]
    }
   ],
   "source": [
    "tupl[1] = 5"
   ]
  },
  {
   "cell_type": "code",
   "execution_count": 38,
   "metadata": {},
   "outputs": [
    {
     "name": "stdout",
     "output_type": "stream",
     "text": [
      "False\n"
     ]
    }
   ],
   "source": [
    "print (tupl == tupl2)"
   ]
  },
  {
   "cell_type": "code",
   "execution_count": 39,
   "metadata": {},
   "outputs": [
    {
     "name": "stdout",
     "output_type": "stream",
     "text": [
      "2 1\n"
     ]
    }
   ],
   "source": [
    "l = [1, 2]\n",
    "x, y= l\n",
    "x,y= y,x\n",
    "print (x, y)"
   ]
  },
  {
   "cell_type": "markdown",
   "metadata": {},
   "source": [
    "## Dictionaries"
   ]
  },
  {
   "cell_type": "code",
   "execution_count": 40,
   "metadata": {},
   "outputs": [
    {
     "name": "stdout",
     "output_type": "stream",
     "text": [
      "{'Monday': 1, 'Tuesday': 2, 'Wedensday': 3}\n"
     ]
    }
   ],
   "source": [
    "a = {\n",
    "    'Monday': 1, \n",
    "    'Tuesday': 2,\n",
    "    'Wedensday': 3\n",
    "}\n",
    "\n",
    "print (a)"
   ]
  },
  {
   "cell_type": "code",
   "execution_count": 41,
   "metadata": {},
   "outputs": [
    {
     "name": "stdout",
     "output_type": "stream",
     "text": [
      "{'Monday': 1, 'Tuesday': 2, 'Wedensday': 3, 'Thursday': 4}\n"
     ]
    }
   ],
   "source": [
    "a['Thursday']=4\n",
    "print (a)"
   ]
  },
  {
   "cell_type": "code",
   "execution_count": 42,
   "metadata": {},
   "outputs": [
    {
     "name": "stdout",
     "output_type": "stream",
     "text": [
      "{'Monday': 1, 'Tuesday': 2, 'Wedensday': 3, 'Thursday': 4, 'Friday': 5, 'Saturday': 6}\n"
     ]
    }
   ],
   "source": [
    "a.update({'Friday':5,'Saturday':6})\n",
    "print (a)"
   ]
  },
  {
   "cell_type": "code",
   "execution_count": 43,
   "metadata": {},
   "outputs": [
    {
     "data": {
      "text/plain": [
       "True"
      ]
     },
     "execution_count": 43,
     "metadata": {},
     "output_type": "execute_result"
    }
   ],
   "source": [
    "'Wedensday' in a"
   ]
  },
  {
   "cell_type": "code",
   "execution_count": 45,
   "metadata": {},
   "outputs": [
    {
     "name": "stdout",
     "output_type": "stream",
     "text": [
      "The sorted dictionar is: ['five', 'four', 'one', 'six', 'three', 'two']\n"
     ]
    }
   ],
   "source": [
    "d = {'one': 1, 'two': 2, 'three': 3, 'four': 4, 'five': 5, 'six': 6} \n",
    "print (f'The sorted dictionar is: {sorted (list(d))}')\n"
   ]
  },
  {
   "cell_type": "code",
   "execution_count": 46,
   "metadata": {},
   "outputs": [
    {
     "data": {
      "text/plain": [
       "[5, 4, 1, 6, 3, 2]"
      ]
     },
     "execution_count": 46,
     "metadata": {},
     "output_type": "execute_result"
    }
   ],
   "source": [
    "[value for (key, value) in sorted (d.items())]"
   ]
  },
  {
   "cell_type": "code",
   "execution_count": 48,
   "metadata": {},
   "outputs": [
    {
     "data": {
      "text/plain": [
       "['six', 'five', 'four', 'three', 'two', 'one']"
      ]
     },
     "execution_count": 48,
     "metadata": {},
     "output_type": "execute_result"
    }
   ],
   "source": [
    "sorted (list(d), key =d.__getitem__, reverse = True)"
   ]
  },
  {
   "cell_type": "code",
   "execution_count": 51,
   "metadata": {},
   "outputs": [],
   "source": [
    "def wordcount (fname):\n",
    "    try:\n",
    "        fhand= open (fname)\n",
    "    except:\n",
    "        print (f'File cannot be openned')\n",
    "        exit()\n",
    "    count = dict ()\n",
    "    for line in fhand: \n",
    "        words = line.split()\n",
    "        for word in words: \n",
    "            if word not in count:\n",
    "                count[word]= 1\n",
    "            else:\n",
    "                count [word]+= 1\n",
    "    return count"
   ]
  },
  {
   "cell_type": "code",
   "execution_count": 52,
   "metadata": {},
   "outputs": [
    {
     "name": "stdout",
     "output_type": "stream",
     "text": [
      "The rwords detected are: {'Enhance': 1, 'circular': 1, 'bio-based': 1, 'systems': 2, 'to': 1, 'operate': 1, 'within': 2, 'planetary': 1, 'boundaries,': 1, 'replacing': 1, 'fossil-based': 1, 'and': 6, 'their': 1, 'carbon': 1, 'footprint,': 1, 'mitigating': 1, 'climate': 1, 'change,': 1, 'restoring': 1, 'biodiversity': 1, 'protecting': 1, 'air,': 1, 'water': 1, 'soil': 1, 'quality': 1, 'along': 1, 'the': 2, 'supply': 1, 'chain': 1, 'of': 1, 'biological': 1, 'feedstocks': 1, 'industrial': 1, 'value': 1, 'chains': 1, 'EU': 1, 'Associated': 1, 'Countries': 1, 'across': 1, 'borders': 1}\n"
     ]
    }
   ],
   "source": [
    "count = wordcount('alice.txt')\n",
    "print (f'The rwords detected are: {count}')"
   ]
  },
  {
   "cell_type": "code",
   "execution_count": 53,
   "metadata": {},
   "outputs": [
    {
     "name": "stdout",
     "output_type": "stream",
     "text": [
      "The filtered values are: {}\n"
     ]
    }
   ],
   "source": [
    "filtered = {key: value for key, value in count.items() if value <20 and value > 16}\n",
    "print (f'The filtered values are: {filtered}')"
   ]
  },
  {
   "cell_type": "markdown",
   "metadata": {},
   "source": [
    "## Sets"
   ]
  },
  {
   "cell_type": "code",
   "execution_count": 54,
   "metadata": {},
   "outputs": [
    {
     "name": "stdout",
     "output_type": "stream",
     "text": [
      "The generated set is: {1, 2, 3, 4}\n"
     ]
    }
   ],
   "source": [
    "s1 = set ()\n",
    "s1.add (1)\n",
    "s1.add (2)\n",
    "s1.add(3)\n",
    "s1.add (4)\n",
    "print (f'The generated set is: {s1}')"
   ]
  },
  {
   "cell_type": "code",
   "execution_count": 55,
   "metadata": {},
   "outputs": [
    {
     "name": "stdout",
     "output_type": "stream",
     "text": [
      "The new set is: {1, 2, 3}\n"
     ]
    }
   ],
   "source": [
    "s1.remove (4)\n",
    "print (f'The new set is: {s1}')"
   ]
  },
  {
   "cell_type": "code",
   "execution_count": 56,
   "metadata": {},
   "outputs": [
    {
     "name": "stdout",
     "output_type": "stream",
     "text": [
      "The discarded value are: {1, 2}\n"
     ]
    }
   ],
   "source": [
    "s1.discard (3)\n",
    "print (f'The discarded value are: {s1}')"
   ]
  },
  {
   "cell_type": "code",
   "execution_count": 57,
   "metadata": {},
   "outputs": [
    {
     "name": "stdout",
     "output_type": "stream",
     "text": [
      "The clear set makes as a result: set()\n"
     ]
    }
   ],
   "source": [
    "s1.clear()\n",
    "print (f'The clear set makes as a result: {s1}')"
   ]
  },
  {
   "cell_type": "code",
   "execution_count": 58,
   "metadata": {},
   "outputs": [
    {
     "name": "stdout",
     "output_type": "stream",
     "text": [
      "The difference between sets are: {3, 4, (5, 6)}\n",
      "The intersection between the sets are: {'ab'}\n",
      "The union between the sets are: {'ab', 3, 4, (5, 6), (7, 6), 7}\n"
     ]
    }
   ],
   "source": [
    "s1 = {'ab', 3,4, (5,6)}\n",
    "s2 = {'ab', 7, (7,6)}\n",
    "print (f'The difference between sets are: {s1-s2}')\n",
    "print (f'The intersection between the sets are: {s1.intersection(s2)}')\n",
    "print (f'The union between the sets are: {s1.union(s2)}')"
   ]
  },
  {
   "cell_type": "code",
   "execution_count": null,
   "metadata": {},
   "outputs": [],
   "source": []
  },
  {
   "cell_type": "markdown",
   "metadata": {},
   "source": [
    "## ChainMap"
   ]
  },
  {
   "cell_type": "code",
   "execution_count": 59,
   "metadata": {},
   "outputs": [
    {
     "name": "stdout",
     "output_type": "stream",
     "text": [
      "The chainmap created is: ChainMap({'a': 1, 'b': 2, 'c': 3}, {'d': 4, 'e': 5})\n"
     ]
    }
   ],
   "source": [
    "import collections\n",
    "dict1 = {\n",
    "    'a':1,\n",
    "    'b':2,\n",
    "    'c':3,\n",
    "}\n",
    "dict2 = {\n",
    "    'd': 4,\n",
    "    'e': 5\n",
    "}\n",
    "\n",
    "chainmap = collections.ChainMap(dict1, dict2)\n",
    "print (f'The chainmap created is: {chainmap}')"
   ]
  },
  {
   "cell_type": "code",
   "execution_count": 64,
   "metadata": {},
   "outputs": [
    {
     "name": "stdout",
     "output_type": "stream",
     "text": [
      "The values of the chainMap are: <bound method Mapping.values of ChainMap({'a': 1, 'b': 2, 'c': 3}, {'d': 4, 'e': 5})>\n",
      "The new created chainmap has the following values: ChainMap({'f': 4}, {'a': 1, 'b': 2, 'c': 3}, {'d': 4, 'e': 5})\n"
     ]
    }
   ],
   "source": [
    "print (f'The values of the chainMap are: {chainmap.values}')\n",
    "cm2 = chainmap.new_child({'f': 4})\n",
    "print (f'The new created chainmap has the following values: {cm2}')"
   ]
  },
  {
   "cell_type": "code",
   "execution_count": null,
   "metadata": {},
   "outputs": [],
   "source": []
  }
 ],
 "metadata": {
  "kernelspec": {
   "display_name": "Python 3.10.7 64-bit",
   "language": "python",
   "name": "python3"
  },
  "language_info": {
   "codemirror_mode": {
    "name": "ipython",
    "version": 3
   },
   "file_extension": ".py",
   "mimetype": "text/x-python",
   "name": "python",
   "nbconvert_exporter": "python",
   "pygments_lexer": "ipython3",
   "version": "3.10.7"
  },
  "orig_nbformat": 4,
  "vscode": {
   "interpreter": {
    "hash": "aee8b7b246df8f9039afb4144a1f6fd8d2ca17a180786b69acc140d282b71a49"
   }
  }
 },
 "nbformat": 4,
 "nbformat_minor": 2
}
